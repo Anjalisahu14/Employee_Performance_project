{
 "cells": [
  {
   "cell_type": "markdown",
   "metadata": {},
   "source": [
    "## Employee Performance Analysis"
   ]
  },
  {
   "cell_type": "markdown",
   "metadata": {},
   "source": [
    "## Summary"
   ]
  },
  {
   "cell_type": "markdown",
   "metadata": {},
   "source": [
    "## Key Performance Indicators of the Project"
   ]
  },
  {
   "cell_type": "markdown",
   "metadata": {},
   "source": [
    "##  A.Department wise Performance."
   ]
  },
  {
   "cell_type": "markdown",
   "metadata": {},
   "source": [
    "Based on given data, I infer the deparment \"Development\" is the top performing team in the organisation. The distribution of performance is displayed in \"Plot 1\". The following list depicts the departments, as the performance goes high to low. Please refer \"Plot 1\"\n",
    "\n",
    "\n",
    "1. Development Department(3.0)\n",
    "2. Datascience  Department(4.0)\n",
    "3. Research and Development(5.0)\n",
    "4. Sales(1.0)\n",
    "5. Human Resources(2.0)\n",
    "6. Finance(6.0)\n"
   ]
  },
  {
   "cell_type": "markdown",
   "metadata": {},
   "source": [
    "##  B. Important Factors effecting employee performance."
   ]
  },
  {
   "cell_type": "markdown",
   "metadata": {},
   "source": [
    " 1.EmpEnvironmentSatisfaction\n",
    " \n",
    " 2.EmpLastSalaryHikePercent\n",
    " \n",
    " 3.YearsSinceLastPromotion\n",
    " \n",
    " 4.Age\n",
    " \n",
    " 5.Gender\n",
    " \n",
    " 6.MaritalStatus\n",
    " \n",
    " 7.EmpDepartment\n",
    " \n",
    " 8.EmpWorkLifeBalance\n",
    " \n",
    " 9.TrainingTimesLastYear"
   ]
  },
  {
   "cell_type": "markdown",
   "metadata": {},
   "source": [
    "## C. Model which can predict the employee performance based on factors."
   ]
  },
  {
   "cell_type": "markdown",
   "metadata": {},
   "source": [
    "  As the target variable is PerformanceRate, I choose the following classifier model.\n",
    "  \n",
    "1. Random Forest Classifier--95% Accuracy and 83,97,91---- Recall rate for 2,3,4 Performance Rate where\n",
    "             2-Good Performance\n",
    "             3- Excellent\n",
    "             4- Outstanding \n",
    "             \n",
    "2. XG Boost Classifier------95% Accuracy and 81,97,91---- Recall rate for 2,3,4 Performance Rate where\n",
    "             2-Good Performance\n",
    "             3- Excellent\n",
    "             4- Outstanding"
   ]
  },
  {
   "cell_type": "markdown",
   "metadata": {},
   "source": [
    "## D.Recommendations to improve the employee performance: (KPI)"
   ]
  },
  {
   "cell_type": "markdown",
   "metadata": {},
   "source": [
    "$ Employee Satisfaction is a key factor for outstanding performance rate.So company should provide such                    environment to the employee.Better environment might be flexible working hours,reduced attrition,location                      of company so travelling time may be less. Refer [Plot-2][Plot-8][Plot-9]\n",
    "\n",
    "$ Should provide hike on regular basis (Annualy).This would motivate employee to perform even more better.  Refer [Plot-3]\n",
    "\n",
    "$ Should encourage employee by giving promotions. As human beings expect recognition for their work naturally.This may improve their performance extensively.  Refer [Plot-4]\n",
    "\n",
    "$ Considering age employee in the age between 32 to 40 perform better. That would be obviously married people.They had perormed well. Refer [Plot-5]\n",
    "\n",
    "$ Male gender both in married and single category performed better than divorce case. Similarly in the case of female gender too.As the count of women is low their distribution of performance looks little low than men.Their count may also be improved. Refer [Plot-6]\n",
    "                   \n",
    "This shows that married employee has proper work life balance and take much responsibilities towards their work hence they perform well.\n",
    "                      \n",
    "\n",
    "$ Employee must be provided with 2 to 3 times training per year, which might refresh them and make strong technically. Refer [Plot-7]\n",
    "\n",
    "$ Employee shold be recruited and alloted projects of their corresponding domain.Technical degree People may be recruited more,since it is lagging in count. \n",
    "\n",
    "            \n"
   ]
  },
  {
   "cell_type": "markdown",
   "metadata": {},
   "source": [
    "## Import the necessary package "
   ]
  },
  {
   "cell_type": "code",
   "execution_count": 2,
   "metadata": {},
   "outputs": [],
   "source": [
    "import pandas as pd\n",
    "import numpy as np\n",
    "from collections import Counter\n",
    "import seaborn as sns\n",
    "import matplotlib.pyplot as plt\n",
    "import matplotlib as mlt\n",
    "%matplotlib inline"
   ]
  },
  {
   "cell_type": "markdown",
   "metadata": {},
   "source": [
    "## Load the data"
   ]
  },
  {
   "cell_type": "code",
   "execution_count": 3,
   "metadata": {},
   "outputs": [],
   "source": [
    "data=pd.read_excel(\"INX_Future_Inc_Employee_Performance_CDS_Project2_Data_V1.8.xls\")"
   ]
  },
  {
   "cell_type": "code",
   "execution_count": 4,
   "metadata": {},
   "outputs": [
    {
     "data": {
      "text/html": [
       "<div>\n",
       "<style scoped>\n",
       "    .dataframe tbody tr th:only-of-type {\n",
       "        vertical-align: middle;\n",
       "    }\n",
       "\n",
       "    .dataframe tbody tr th {\n",
       "        vertical-align: top;\n",
       "    }\n",
       "\n",
       "    .dataframe thead th {\n",
       "        text-align: right;\n",
       "    }\n",
       "</style>\n",
       "<table border=\"1\" class=\"dataframe\">\n",
       "  <thead>\n",
       "    <tr style=\"text-align: right;\">\n",
       "      <th></th>\n",
       "      <th>EmpNumber</th>\n",
       "      <th>Age</th>\n",
       "      <th>Gender</th>\n",
       "      <th>EducationBackground</th>\n",
       "      <th>MaritalStatus</th>\n",
       "      <th>EmpDepartment</th>\n",
       "      <th>EmpJobRole</th>\n",
       "      <th>BusinessTravelFrequency</th>\n",
       "      <th>DistanceFromHome</th>\n",
       "      <th>EmpEducationLevel</th>\n",
       "      <th>...</th>\n",
       "      <th>EmpRelationshipSatisfaction</th>\n",
       "      <th>TotalWorkExperienceInYears</th>\n",
       "      <th>TrainingTimesLastYear</th>\n",
       "      <th>EmpWorkLifeBalance</th>\n",
       "      <th>ExperienceYearsAtThisCompany</th>\n",
       "      <th>ExperienceYearsInCurrentRole</th>\n",
       "      <th>YearsSinceLastPromotion</th>\n",
       "      <th>YearsWithCurrManager</th>\n",
       "      <th>Attrition</th>\n",
       "      <th>PerformanceRating</th>\n",
       "    </tr>\n",
       "  </thead>\n",
       "  <tbody>\n",
       "    <tr>\n",
       "      <th>0</th>\n",
       "      <td>E1001000</td>\n",
       "      <td>32</td>\n",
       "      <td>Male</td>\n",
       "      <td>Marketing</td>\n",
       "      <td>Single</td>\n",
       "      <td>Sales</td>\n",
       "      <td>Sales Executive</td>\n",
       "      <td>Travel_Rarely</td>\n",
       "      <td>10</td>\n",
       "      <td>3</td>\n",
       "      <td>...</td>\n",
       "      <td>4</td>\n",
       "      <td>10</td>\n",
       "      <td>2</td>\n",
       "      <td>2</td>\n",
       "      <td>10</td>\n",
       "      <td>7</td>\n",
       "      <td>0</td>\n",
       "      <td>8</td>\n",
       "      <td>No</td>\n",
       "      <td>3</td>\n",
       "    </tr>\n",
       "    <tr>\n",
       "      <th>1</th>\n",
       "      <td>E1001006</td>\n",
       "      <td>47</td>\n",
       "      <td>Male</td>\n",
       "      <td>Marketing</td>\n",
       "      <td>Single</td>\n",
       "      <td>Sales</td>\n",
       "      <td>Sales Executive</td>\n",
       "      <td>Travel_Rarely</td>\n",
       "      <td>14</td>\n",
       "      <td>4</td>\n",
       "      <td>...</td>\n",
       "      <td>4</td>\n",
       "      <td>20</td>\n",
       "      <td>2</td>\n",
       "      <td>3</td>\n",
       "      <td>7</td>\n",
       "      <td>7</td>\n",
       "      <td>1</td>\n",
       "      <td>7</td>\n",
       "      <td>No</td>\n",
       "      <td>3</td>\n",
       "    </tr>\n",
       "    <tr>\n",
       "      <th>2</th>\n",
       "      <td>E1001007</td>\n",
       "      <td>40</td>\n",
       "      <td>Male</td>\n",
       "      <td>Life Sciences</td>\n",
       "      <td>Married</td>\n",
       "      <td>Sales</td>\n",
       "      <td>Sales Executive</td>\n",
       "      <td>Travel_Frequently</td>\n",
       "      <td>5</td>\n",
       "      <td>4</td>\n",
       "      <td>...</td>\n",
       "      <td>3</td>\n",
       "      <td>20</td>\n",
       "      <td>2</td>\n",
       "      <td>3</td>\n",
       "      <td>18</td>\n",
       "      <td>13</td>\n",
       "      <td>1</td>\n",
       "      <td>12</td>\n",
       "      <td>No</td>\n",
       "      <td>4</td>\n",
       "    </tr>\n",
       "    <tr>\n",
       "      <th>3</th>\n",
       "      <td>E1001009</td>\n",
       "      <td>41</td>\n",
       "      <td>Male</td>\n",
       "      <td>Human Resources</td>\n",
       "      <td>Divorced</td>\n",
       "      <td>Human Resources</td>\n",
       "      <td>Manager</td>\n",
       "      <td>Travel_Rarely</td>\n",
       "      <td>10</td>\n",
       "      <td>4</td>\n",
       "      <td>...</td>\n",
       "      <td>2</td>\n",
       "      <td>23</td>\n",
       "      <td>2</td>\n",
       "      <td>2</td>\n",
       "      <td>21</td>\n",
       "      <td>6</td>\n",
       "      <td>12</td>\n",
       "      <td>6</td>\n",
       "      <td>No</td>\n",
       "      <td>3</td>\n",
       "    </tr>\n",
       "    <tr>\n",
       "      <th>4</th>\n",
       "      <td>E1001010</td>\n",
       "      <td>60</td>\n",
       "      <td>Male</td>\n",
       "      <td>Marketing</td>\n",
       "      <td>Single</td>\n",
       "      <td>Sales</td>\n",
       "      <td>Sales Executive</td>\n",
       "      <td>Travel_Rarely</td>\n",
       "      <td>16</td>\n",
       "      <td>4</td>\n",
       "      <td>...</td>\n",
       "      <td>4</td>\n",
       "      <td>10</td>\n",
       "      <td>1</td>\n",
       "      <td>3</td>\n",
       "      <td>2</td>\n",
       "      <td>2</td>\n",
       "      <td>2</td>\n",
       "      <td>2</td>\n",
       "      <td>No</td>\n",
       "      <td>3</td>\n",
       "    </tr>\n",
       "  </tbody>\n",
       "</table>\n",
       "<p>5 rows × 28 columns</p>\n",
       "</div>"
      ],
      "text/plain": [
       "  EmpNumber  Age Gender EducationBackground MaritalStatus    EmpDepartment  \\\n",
       "0  E1001000   32   Male           Marketing        Single            Sales   \n",
       "1  E1001006   47   Male           Marketing        Single            Sales   \n",
       "2  E1001007   40   Male       Life Sciences       Married            Sales   \n",
       "3  E1001009   41   Male     Human Resources      Divorced  Human Resources   \n",
       "4  E1001010   60   Male           Marketing        Single            Sales   \n",
       "\n",
       "        EmpJobRole BusinessTravelFrequency  DistanceFromHome  \\\n",
       "0  Sales Executive           Travel_Rarely                10   \n",
       "1  Sales Executive           Travel_Rarely                14   \n",
       "2  Sales Executive       Travel_Frequently                 5   \n",
       "3          Manager           Travel_Rarely                10   \n",
       "4  Sales Executive           Travel_Rarely                16   \n",
       "\n",
       "   EmpEducationLevel  ...  EmpRelationshipSatisfaction  \\\n",
       "0                  3  ...                            4   \n",
       "1                  4  ...                            4   \n",
       "2                  4  ...                            3   \n",
       "3                  4  ...                            2   \n",
       "4                  4  ...                            4   \n",
       "\n",
       "   TotalWorkExperienceInYears  TrainingTimesLastYear  EmpWorkLifeBalance  \\\n",
       "0                          10                      2                   2   \n",
       "1                          20                      2                   3   \n",
       "2                          20                      2                   3   \n",
       "3                          23                      2                   2   \n",
       "4                          10                      1                   3   \n",
       "\n",
       "   ExperienceYearsAtThisCompany  ExperienceYearsInCurrentRole  \\\n",
       "0                            10                             7   \n",
       "1                             7                             7   \n",
       "2                            18                            13   \n",
       "3                            21                             6   \n",
       "4                             2                             2   \n",
       "\n",
       "  YearsSinceLastPromotion  YearsWithCurrManager  Attrition  PerformanceRating  \n",
       "0                       0                     8         No                  3  \n",
       "1                       1                     7         No                  3  \n",
       "2                       1                    12         No                  4  \n",
       "3                      12                     6         No                  3  \n",
       "4                       2                     2         No                  3  \n",
       "\n",
       "[5 rows x 28 columns]"
      ]
     },
     "execution_count": 4,
     "metadata": {},
     "output_type": "execute_result"
    }
   ],
   "source": [
    "data.head()"
   ]
  },
  {
   "cell_type": "code",
   "execution_count": 5,
   "metadata": {},
   "outputs": [
    {
     "name": "stdout",
     "output_type": "stream",
     "text": [
      "<class 'pandas.core.frame.DataFrame'>\n",
      "RangeIndex: 1200 entries, 0 to 1199\n",
      "Data columns (total 28 columns):\n",
      "EmpNumber                       1200 non-null object\n",
      "Age                             1200 non-null int64\n",
      "Gender                          1200 non-null object\n",
      "EducationBackground             1200 non-null object\n",
      "MaritalStatus                   1200 non-null object\n",
      "EmpDepartment                   1200 non-null object\n",
      "EmpJobRole                      1200 non-null object\n",
      "BusinessTravelFrequency         1200 non-null object\n",
      "DistanceFromHome                1200 non-null int64\n",
      "EmpEducationLevel               1200 non-null int64\n",
      "EmpEnvironmentSatisfaction      1200 non-null int64\n",
      "EmpHourlyRate                   1200 non-null int64\n",
      "EmpJobInvolvement               1200 non-null int64\n",
      "EmpJobLevel                     1200 non-null int64\n",
      "EmpJobSatisfaction              1200 non-null int64\n",
      "NumCompaniesWorked              1200 non-null int64\n",
      "OverTime                        1200 non-null object\n",
      "EmpLastSalaryHikePercent        1200 non-null int64\n",
      "EmpRelationshipSatisfaction     1200 non-null int64\n",
      "TotalWorkExperienceInYears      1200 non-null int64\n",
      "TrainingTimesLastYear           1200 non-null int64\n",
      "EmpWorkLifeBalance              1200 non-null int64\n",
      "ExperienceYearsAtThisCompany    1200 non-null int64\n",
      "ExperienceYearsInCurrentRole    1200 non-null int64\n",
      "YearsSinceLastPromotion         1200 non-null int64\n",
      "YearsWithCurrManager            1200 non-null int64\n",
      "Attrition                       1200 non-null object\n",
      "PerformanceRating               1200 non-null int64\n",
      "dtypes: int64(19), object(9)\n",
      "memory usage: 262.6+ KB\n"
     ]
    }
   ],
   "source": [
    "data.info()"
   ]
  },
  {
   "cell_type": "code",
   "execution_count": 6,
   "metadata": {},
   "outputs": [
    {
     "data": {
      "text/html": [
       "<div>\n",
       "<style scoped>\n",
       "    .dataframe tbody tr th:only-of-type {\n",
       "        vertical-align: middle;\n",
       "    }\n",
       "\n",
       "    .dataframe tbody tr th {\n",
       "        vertical-align: top;\n",
       "    }\n",
       "\n",
       "    .dataframe thead th {\n",
       "        text-align: right;\n",
       "    }\n",
       "</style>\n",
       "<table border=\"1\" class=\"dataframe\">\n",
       "  <thead>\n",
       "    <tr style=\"text-align: right;\">\n",
       "      <th></th>\n",
       "      <th>Age</th>\n",
       "      <th>DistanceFromHome</th>\n",
       "      <th>EmpEducationLevel</th>\n",
       "      <th>EmpEnvironmentSatisfaction</th>\n",
       "      <th>EmpHourlyRate</th>\n",
       "      <th>EmpJobInvolvement</th>\n",
       "      <th>EmpJobLevel</th>\n",
       "      <th>EmpJobSatisfaction</th>\n",
       "      <th>NumCompaniesWorked</th>\n",
       "      <th>EmpLastSalaryHikePercent</th>\n",
       "      <th>EmpRelationshipSatisfaction</th>\n",
       "      <th>TotalWorkExperienceInYears</th>\n",
       "      <th>TrainingTimesLastYear</th>\n",
       "      <th>EmpWorkLifeBalance</th>\n",
       "      <th>ExperienceYearsAtThisCompany</th>\n",
       "      <th>ExperienceYearsInCurrentRole</th>\n",
       "      <th>YearsSinceLastPromotion</th>\n",
       "      <th>YearsWithCurrManager</th>\n",
       "      <th>PerformanceRating</th>\n",
       "    </tr>\n",
       "  </thead>\n",
       "  <tbody>\n",
       "    <tr>\n",
       "      <th>count</th>\n",
       "      <td>1200.000000</td>\n",
       "      <td>1200.000000</td>\n",
       "      <td>1200.00000</td>\n",
       "      <td>1200.000000</td>\n",
       "      <td>1200.000000</td>\n",
       "      <td>1200.000000</td>\n",
       "      <td>1200.000000</td>\n",
       "      <td>1200.000000</td>\n",
       "      <td>1200.000000</td>\n",
       "      <td>1200.000000</td>\n",
       "      <td>1200.000000</td>\n",
       "      <td>1200.000000</td>\n",
       "      <td>1200.000000</td>\n",
       "      <td>1200.000000</td>\n",
       "      <td>1200.000000</td>\n",
       "      <td>1200.000000</td>\n",
       "      <td>1200.000000</td>\n",
       "      <td>1200.000000</td>\n",
       "      <td>1200.000000</td>\n",
       "    </tr>\n",
       "    <tr>\n",
       "      <th>mean</th>\n",
       "      <td>36.918333</td>\n",
       "      <td>9.165833</td>\n",
       "      <td>2.89250</td>\n",
       "      <td>2.715833</td>\n",
       "      <td>65.981667</td>\n",
       "      <td>2.731667</td>\n",
       "      <td>2.067500</td>\n",
       "      <td>2.732500</td>\n",
       "      <td>2.665000</td>\n",
       "      <td>15.222500</td>\n",
       "      <td>2.725000</td>\n",
       "      <td>11.330000</td>\n",
       "      <td>2.785833</td>\n",
       "      <td>2.744167</td>\n",
       "      <td>7.077500</td>\n",
       "      <td>4.291667</td>\n",
       "      <td>2.194167</td>\n",
       "      <td>4.105000</td>\n",
       "      <td>2.948333</td>\n",
       "    </tr>\n",
       "    <tr>\n",
       "      <th>std</th>\n",
       "      <td>9.087289</td>\n",
       "      <td>8.176636</td>\n",
       "      <td>1.04412</td>\n",
       "      <td>1.090599</td>\n",
       "      <td>20.211302</td>\n",
       "      <td>0.707164</td>\n",
       "      <td>1.107836</td>\n",
       "      <td>1.100888</td>\n",
       "      <td>2.469384</td>\n",
       "      <td>3.625918</td>\n",
       "      <td>1.075642</td>\n",
       "      <td>7.797228</td>\n",
       "      <td>1.263446</td>\n",
       "      <td>0.699374</td>\n",
       "      <td>6.236899</td>\n",
       "      <td>3.613744</td>\n",
       "      <td>3.221560</td>\n",
       "      <td>3.541576</td>\n",
       "      <td>0.518866</td>\n",
       "    </tr>\n",
       "    <tr>\n",
       "      <th>min</th>\n",
       "      <td>18.000000</td>\n",
       "      <td>1.000000</td>\n",
       "      <td>1.00000</td>\n",
       "      <td>1.000000</td>\n",
       "      <td>30.000000</td>\n",
       "      <td>1.000000</td>\n",
       "      <td>1.000000</td>\n",
       "      <td>1.000000</td>\n",
       "      <td>0.000000</td>\n",
       "      <td>11.000000</td>\n",
       "      <td>1.000000</td>\n",
       "      <td>0.000000</td>\n",
       "      <td>0.000000</td>\n",
       "      <td>1.000000</td>\n",
       "      <td>0.000000</td>\n",
       "      <td>0.000000</td>\n",
       "      <td>0.000000</td>\n",
       "      <td>0.000000</td>\n",
       "      <td>2.000000</td>\n",
       "    </tr>\n",
       "    <tr>\n",
       "      <th>25%</th>\n",
       "      <td>30.000000</td>\n",
       "      <td>2.000000</td>\n",
       "      <td>2.00000</td>\n",
       "      <td>2.000000</td>\n",
       "      <td>48.000000</td>\n",
       "      <td>2.000000</td>\n",
       "      <td>1.000000</td>\n",
       "      <td>2.000000</td>\n",
       "      <td>1.000000</td>\n",
       "      <td>12.000000</td>\n",
       "      <td>2.000000</td>\n",
       "      <td>6.000000</td>\n",
       "      <td>2.000000</td>\n",
       "      <td>2.000000</td>\n",
       "      <td>3.000000</td>\n",
       "      <td>2.000000</td>\n",
       "      <td>0.000000</td>\n",
       "      <td>2.000000</td>\n",
       "      <td>3.000000</td>\n",
       "    </tr>\n",
       "    <tr>\n",
       "      <th>50%</th>\n",
       "      <td>36.000000</td>\n",
       "      <td>7.000000</td>\n",
       "      <td>3.00000</td>\n",
       "      <td>3.000000</td>\n",
       "      <td>66.000000</td>\n",
       "      <td>3.000000</td>\n",
       "      <td>2.000000</td>\n",
       "      <td>3.000000</td>\n",
       "      <td>2.000000</td>\n",
       "      <td>14.000000</td>\n",
       "      <td>3.000000</td>\n",
       "      <td>10.000000</td>\n",
       "      <td>3.000000</td>\n",
       "      <td>3.000000</td>\n",
       "      <td>5.000000</td>\n",
       "      <td>3.000000</td>\n",
       "      <td>1.000000</td>\n",
       "      <td>3.000000</td>\n",
       "      <td>3.000000</td>\n",
       "    </tr>\n",
       "    <tr>\n",
       "      <th>75%</th>\n",
       "      <td>43.000000</td>\n",
       "      <td>14.000000</td>\n",
       "      <td>4.00000</td>\n",
       "      <td>4.000000</td>\n",
       "      <td>83.000000</td>\n",
       "      <td>3.000000</td>\n",
       "      <td>3.000000</td>\n",
       "      <td>4.000000</td>\n",
       "      <td>4.000000</td>\n",
       "      <td>18.000000</td>\n",
       "      <td>4.000000</td>\n",
       "      <td>15.000000</td>\n",
       "      <td>3.000000</td>\n",
       "      <td>3.000000</td>\n",
       "      <td>10.000000</td>\n",
       "      <td>7.000000</td>\n",
       "      <td>3.000000</td>\n",
       "      <td>7.000000</td>\n",
       "      <td>3.000000</td>\n",
       "    </tr>\n",
       "    <tr>\n",
       "      <th>max</th>\n",
       "      <td>60.000000</td>\n",
       "      <td>29.000000</td>\n",
       "      <td>5.00000</td>\n",
       "      <td>4.000000</td>\n",
       "      <td>100.000000</td>\n",
       "      <td>4.000000</td>\n",
       "      <td>5.000000</td>\n",
       "      <td>4.000000</td>\n",
       "      <td>9.000000</td>\n",
       "      <td>25.000000</td>\n",
       "      <td>4.000000</td>\n",
       "      <td>40.000000</td>\n",
       "      <td>6.000000</td>\n",
       "      <td>4.000000</td>\n",
       "      <td>40.000000</td>\n",
       "      <td>18.000000</td>\n",
       "      <td>15.000000</td>\n",
       "      <td>17.000000</td>\n",
       "      <td>4.000000</td>\n",
       "    </tr>\n",
       "  </tbody>\n",
       "</table>\n",
       "</div>"
      ],
      "text/plain": [
       "               Age  DistanceFromHome  EmpEducationLevel  \\\n",
       "count  1200.000000       1200.000000         1200.00000   \n",
       "mean     36.918333          9.165833            2.89250   \n",
       "std       9.087289          8.176636            1.04412   \n",
       "min      18.000000          1.000000            1.00000   \n",
       "25%      30.000000          2.000000            2.00000   \n",
       "50%      36.000000          7.000000            3.00000   \n",
       "75%      43.000000         14.000000            4.00000   \n",
       "max      60.000000         29.000000            5.00000   \n",
       "\n",
       "       EmpEnvironmentSatisfaction  EmpHourlyRate  EmpJobInvolvement  \\\n",
       "count                 1200.000000    1200.000000        1200.000000   \n",
       "mean                     2.715833      65.981667           2.731667   \n",
       "std                      1.090599      20.211302           0.707164   \n",
       "min                      1.000000      30.000000           1.000000   \n",
       "25%                      2.000000      48.000000           2.000000   \n",
       "50%                      3.000000      66.000000           3.000000   \n",
       "75%                      4.000000      83.000000           3.000000   \n",
       "max                      4.000000     100.000000           4.000000   \n",
       "\n",
       "       EmpJobLevel  EmpJobSatisfaction  NumCompaniesWorked  \\\n",
       "count  1200.000000         1200.000000         1200.000000   \n",
       "mean      2.067500            2.732500            2.665000   \n",
       "std       1.107836            1.100888            2.469384   \n",
       "min       1.000000            1.000000            0.000000   \n",
       "25%       1.000000            2.000000            1.000000   \n",
       "50%       2.000000            3.000000            2.000000   \n",
       "75%       3.000000            4.000000            4.000000   \n",
       "max       5.000000            4.000000            9.000000   \n",
       "\n",
       "       EmpLastSalaryHikePercent  EmpRelationshipSatisfaction  \\\n",
       "count               1200.000000                  1200.000000   \n",
       "mean                  15.222500                     2.725000   \n",
       "std                    3.625918                     1.075642   \n",
       "min                   11.000000                     1.000000   \n",
       "25%                   12.000000                     2.000000   \n",
       "50%                   14.000000                     3.000000   \n",
       "75%                   18.000000                     4.000000   \n",
       "max                   25.000000                     4.000000   \n",
       "\n",
       "       TotalWorkExperienceInYears  TrainingTimesLastYear  EmpWorkLifeBalance  \\\n",
       "count                 1200.000000            1200.000000         1200.000000   \n",
       "mean                    11.330000               2.785833            2.744167   \n",
       "std                      7.797228               1.263446            0.699374   \n",
       "min                      0.000000               0.000000            1.000000   \n",
       "25%                      6.000000               2.000000            2.000000   \n",
       "50%                     10.000000               3.000000            3.000000   \n",
       "75%                     15.000000               3.000000            3.000000   \n",
       "max                     40.000000               6.000000            4.000000   \n",
       "\n",
       "       ExperienceYearsAtThisCompany  ExperienceYearsInCurrentRole  \\\n",
       "count                   1200.000000                   1200.000000   \n",
       "mean                       7.077500                      4.291667   \n",
       "std                        6.236899                      3.613744   \n",
       "min                        0.000000                      0.000000   \n",
       "25%                        3.000000                      2.000000   \n",
       "50%                        5.000000                      3.000000   \n",
       "75%                       10.000000                      7.000000   \n",
       "max                       40.000000                     18.000000   \n",
       "\n",
       "       YearsSinceLastPromotion  YearsWithCurrManager  PerformanceRating  \n",
       "count              1200.000000           1200.000000        1200.000000  \n",
       "mean                  2.194167              4.105000           2.948333  \n",
       "std                   3.221560              3.541576           0.518866  \n",
       "min                   0.000000              0.000000           2.000000  \n",
       "25%                   0.000000              2.000000           3.000000  \n",
       "50%                   1.000000              3.000000           3.000000  \n",
       "75%                   3.000000              7.000000           3.000000  \n",
       "max                  15.000000             17.000000           4.000000  "
      ]
     },
     "execution_count": 6,
     "metadata": {},
     "output_type": "execute_result"
    }
   ],
   "source": [
    "data.describe()"
   ]
  },
  {
   "cell_type": "markdown",
   "metadata": {},
   "source": [
    "## Check for NaN value"
   ]
  },
  {
   "cell_type": "code",
   "execution_count": 7,
   "metadata": {},
   "outputs": [
    {
     "data": {
      "text/plain": [
       "EmpNumber                       0\n",
       "Age                             0\n",
       "Gender                          0\n",
       "EducationBackground             0\n",
       "MaritalStatus                   0\n",
       "EmpDepartment                   0\n",
       "EmpJobRole                      0\n",
       "BusinessTravelFrequency         0\n",
       "DistanceFromHome                0\n",
       "EmpEducationLevel               0\n",
       "EmpEnvironmentSatisfaction      0\n",
       "EmpHourlyRate                   0\n",
       "EmpJobInvolvement               0\n",
       "EmpJobLevel                     0\n",
       "EmpJobSatisfaction              0\n",
       "NumCompaniesWorked              0\n",
       "OverTime                        0\n",
       "EmpLastSalaryHikePercent        0\n",
       "EmpRelationshipSatisfaction     0\n",
       "TotalWorkExperienceInYears      0\n",
       "TrainingTimesLastYear           0\n",
       "EmpWorkLifeBalance              0\n",
       "ExperienceYearsAtThisCompany    0\n",
       "ExperienceYearsInCurrentRole    0\n",
       "YearsSinceLastPromotion         0\n",
       "YearsWithCurrManager            0\n",
       "Attrition                       0\n",
       "PerformanceRating               0\n",
       "dtype: int64"
      ]
     },
     "execution_count": 7,
     "metadata": {},
     "output_type": "execute_result"
    }
   ],
   "source": [
    "data.isnull().sum()"
   ]
  },
  {
   "cell_type": "markdown",
   "metadata": {},
   "source": [
    "## check unique values in each feature"
   ]
  },
  {
   "cell_type": "code",
   "execution_count": 10,
   "metadata": {},
   "outputs": [
    {
     "data": {
      "text/plain": [
       "1200"
      ]
     },
     "execution_count": 10,
     "metadata": {},
     "output_type": "execute_result"
    }
   ],
   "source": [
    "len(data.EmpNumber.unique())"
   ]
  },
  {
   "cell_type": "code",
   "execution_count": 11,
   "metadata": {},
   "outputs": [
    {
     "data": {
      "text/plain": [
       "Counter({32: 46,\n",
       "         47: 20,\n",
       "         40: 46,\n",
       "         41: 32,\n",
       "         60: 3,\n",
       "         27: 43,\n",
       "         50: 28,\n",
       "         28: 39,\n",
       "         36: 60,\n",
       "         38: 48,\n",
       "         44: 30,\n",
       "         30: 42,\n",
       "         29: 51,\n",
       "         42: 36,\n",
       "         34: 71,\n",
       "         39: 31,\n",
       "         56: 11,\n",
       "         53: 15,\n",
       "         35: 64,\n",
       "         52: 15,\n",
       "         33: 46,\n",
       "         25: 24,\n",
       "         45: 36,\n",
       "         23: 9,\n",
       "         26: 33,\n",
       "         54: 16,\n",
       "         37: 41,\n",
       "         24: 20,\n",
       "         49: 21,\n",
       "         55: 17,\n",
       "         43: 26,\n",
       "         51: 14,\n",
       "         22: 15,\n",
       "         31: 57,\n",
       "         58: 11,\n",
       "         20: 6,\n",
       "         21: 11,\n",
       "         48: 16,\n",
       "         19: 8,\n",
       "         18: 8,\n",
       "         59: 6,\n",
       "         46: 24,\n",
       "         57: 4})"
      ]
     },
     "execution_count": 11,
     "metadata": {},
     "output_type": "execute_result"
    }
   ],
   "source": [
    "Counter(data.Age)"
   ]
  },
  {
   "cell_type": "code",
   "execution_count": 12,
   "metadata": {},
   "outputs": [
    {
     "data": {
      "text/plain": [
       "array(['Male', 'Female'], dtype=object)"
      ]
     },
     "execution_count": 12,
     "metadata": {},
     "output_type": "execute_result"
    }
   ],
   "source": [
    "data['Gender'].unique()"
   ]
  },
  {
   "cell_type": "code",
   "execution_count": 13,
   "metadata": {},
   "outputs": [
    {
     "data": {
      "text/plain": [
       "Counter({'Male': 725, 'Female': 475})"
      ]
     },
     "execution_count": 13,
     "metadata": {},
     "output_type": "execute_result"
    }
   ],
   "source": [
    "Counter(data.Gender)"
   ]
  },
  {
   "cell_type": "code",
   "execution_count": 14,
   "metadata": {},
   "outputs": [
    {
     "data": {
      "text/plain": [
       "Counter({'Marketing': 137,\n",
       "         'Life Sciences': 492,\n",
       "         'Human Resources': 21,\n",
       "         'Medical': 384,\n",
       "         'Other': 66,\n",
       "         'Technical Degree': 100})"
      ]
     },
     "execution_count": 14,
     "metadata": {},
     "output_type": "execute_result"
    }
   ],
   "source": [
    "Counter(data.EducationBackground)"
   ]
  },
  {
   "cell_type": "code",
   "execution_count": 15,
   "metadata": {},
   "outputs": [
    {
     "data": {
      "text/plain": [
       "Counter({'Sales': 373,\n",
       "         'Human Resources': 54,\n",
       "         'Development': 361,\n",
       "         'Data Science': 20,\n",
       "         'Research & Development': 343,\n",
       "         'Finance': 49})"
      ]
     },
     "execution_count": 15,
     "metadata": {},
     "output_type": "execute_result"
    }
   ],
   "source": [
    "Counter(data.EmpDepartment)"
   ]
  },
  {
   "cell_type": "code",
   "execution_count": 16,
   "metadata": {},
   "outputs": [
    {
     "data": {
      "text/plain": [
       "Counter({3: 449, 4: 322, 2: 239, 5: 42, 1: 148})"
      ]
     },
     "execution_count": 16,
     "metadata": {},
     "output_type": "execute_result"
    }
   ],
   "source": [
    "Counter(data.EmpEducationLevel)"
   ]
  },
  {
   "cell_type": "code",
   "execution_count": 17,
   "metadata": {},
   "outputs": [
    {
     "data": {
      "text/plain": [
       "Counter({'Sales Executive': 270,\n",
       "         'Manager': 51,\n",
       "         'Developer': 236,\n",
       "         'Sales Representative': 69,\n",
       "         'Human Resources': 45,\n",
       "         'Senior Developer': 52,\n",
       "         'Data Scientist': 20,\n",
       "         'Senior Manager R&D': 15,\n",
       "         'Laboratory Technician': 64,\n",
       "         'Manufacturing Director': 33,\n",
       "         'Research Scientist': 77,\n",
       "         'Healthcare Representative': 33,\n",
       "         'Research Director': 19,\n",
       "         'Manager R&D': 94,\n",
       "         'Finance Manager': 49,\n",
       "         'Technical Architect': 7,\n",
       "         'Business Analyst': 16,\n",
       "         'Technical Lead': 38,\n",
       "         'Delivery Manager': 12})"
      ]
     },
     "execution_count": 17,
     "metadata": {},
     "output_type": "execute_result"
    }
   ],
   "source": [
    "Counter(data.EmpJobRole)"
   ]
  },
  {
   "cell_type": "code",
   "execution_count": 18,
   "metadata": {},
   "outputs": [
    {
     "data": {
      "text/plain": [
       "Counter({3: 874, 4: 132, 2: 194})"
      ]
     },
     "execution_count": 18,
     "metadata": {},
     "output_type": "execute_result"
    }
   ],
   "source": [
    "Counter(data.PerformanceRating)"
   ]
  },
  {
   "cell_type": "code",
   "execution_count": 19,
   "metadata": {},
   "outputs": [
    {
     "data": {
      "text/plain": [
       "Counter({2: 294, 3: 727, 4: 115, 1: 64})"
      ]
     },
     "execution_count": 19,
     "metadata": {},
     "output_type": "execute_result"
    }
   ],
   "source": [
    "Counter(data.EmpWorkLifeBalance)"
   ]
  },
  {
   "cell_type": "code",
   "execution_count": 20,
   "metadata": {},
   "outputs": [
    {
     "data": {
      "text/plain": [
       "Counter({55: 12,\n",
       "         42: 24,\n",
       "         48: 21,\n",
       "         73: 20,\n",
       "         84: 21,\n",
       "         32: 19,\n",
       "         54: 20,\n",
       "         67: 15,\n",
       "         63: 13,\n",
       "         81: 19,\n",
       "         49: 12,\n",
       "         99: 19,\n",
       "         57: 23,\n",
       "         96: 22,\n",
       "         44: 16,\n",
       "         86: 20,\n",
       "         83: 18,\n",
       "         61: 17,\n",
       "         80: 14,\n",
       "         31: 13,\n",
       "         46: 23,\n",
       "         79: 25,\n",
       "         77: 19,\n",
       "         60: 18,\n",
       "         76: 16,\n",
       "         41: 16,\n",
       "         71: 17,\n",
       "         66: 25,\n",
       "         38: 10,\n",
       "         72: 22,\n",
       "         95: 17,\n",
       "         82: 17,\n",
       "         75: 16,\n",
       "         93: 13,\n",
       "         64: 17,\n",
       "         36: 17,\n",
       "         69: 12,\n",
       "         33: 16,\n",
       "         35: 14,\n",
       "         40: 17,\n",
       "         43: 21,\n",
       "         51: 18,\n",
       "         52: 21,\n",
       "         98: 20,\n",
       "         45: 22,\n",
       "         37: 13,\n",
       "         94: 21,\n",
       "         59: 16,\n",
       "         88: 15,\n",
       "         50: 13,\n",
       "         65: 18,\n",
       "         53: 13,\n",
       "         56: 19,\n",
       "         78: 19,\n",
       "         74: 18,\n",
       "         91: 14,\n",
       "         62: 19,\n",
       "         87: 21,\n",
       "         68: 12,\n",
       "         34: 6,\n",
       "         70: 12,\n",
       "         100: 14,\n",
       "         92: 22,\n",
       "         39: 14,\n",
       "         97: 18,\n",
       "         47: 11,\n",
       "         90: 17,\n",
       "         85: 15,\n",
       "         30: 13,\n",
       "         58: 12,\n",
       "         89: 8})"
      ]
     },
     "execution_count": 20,
     "metadata": {},
     "output_type": "execute_result"
    }
   ],
   "source": [
    "Counter(data.EmpHourlyRate)"
   ]
  },
  {
   "cell_type": "markdown",
   "metadata": {},
   "source": [
    "## Checking for correlation to find the features which effect the target variable"
   ]
  },
  {
   "cell_type": "code",
   "execution_count": 23,
   "metadata": {},
   "outputs": [
    {
     "data": {
      "text/plain": [
       "YearsSinceLastPromotion        -0.167629\n",
       "ExperienceYearsInCurrentRole   -0.147638\n",
       "YearsWithCurrManager           -0.122313\n",
       "ExperienceYearsAtThisCompany   -0.111645\n",
       "EmpJobLevel                    -0.076632\n",
       "TotalWorkExperienceInYears     -0.068141\n",
       "DistanceFromHome               -0.046142\n",
       "EmpHourlyRate                  -0.043116\n",
       "Age                            -0.040164\n",
       "EmpRelationshipSatisfaction    -0.019502\n",
       "EmpJobInvolvement              -0.010539\n",
       "TrainingTimesLastYear          -0.005443\n",
       "EmpJobSatisfaction              0.000606\n",
       "EmpEducationLevel               0.020529\n",
       "NumCompaniesWorked              0.020980\n",
       "EmpWorkLifeBalance              0.124429\n",
       "EmpLastSalaryHikePercent        0.333722\n",
       "EmpEnvironmentSatisfaction      0.395561\n",
       "PerformanceRating               1.000000\n",
       "Name: PerformanceRating, dtype: float64"
      ]
     },
     "execution_count": 23,
     "metadata": {},
     "output_type": "execute_result"
    }
   ],
   "source": [
    "data.corr().PerformanceRating.sort_values()"
   ]
  },
  {
   "cell_type": "markdown",
   "metadata": {},
   "source": [
    "## visualizing Correlation using heatmap"
   ]
  },
  {
   "cell_type": "code",
   "execution_count": 22,
   "metadata": {},
   "outputs": [
    {
     "data": {
      "text/plain": [
       "<matplotlib.axes._subplots.AxesSubplot at 0x265f65730b8>"
      ]
     },
     "execution_count": 22,
     "metadata": {},
     "output_type": "execute_result"
    },
    {
     "data": {
      "image/png": "[encoded data removed]",
      "text/plain": [
       "<Figure size 1440x720 with 2 Axes>"
      ]
     },
     "metadata": {
      "needs_background": "light"
     },
     "output_type": "display_data"
    }
   ],
   "source": [
    "plt.figure(figsize=(20,10))\n",
    "sns.heatmap(data.corr())"
   ]
  },
  {
   "cell_type": "markdown",
   "metadata": {},
   "source": [
    "## Univariate Analysis"
   ]
  },
  {
   "cell_type": "code",
   "execution_count": 20,
   "metadata": {},
   "outputs": [],
   "source": [
    "from pandas_profiling import ProfileReport\n",
    "data_profile = ProfileReport(data)"
   ]
  },
  {
   "cell_type": "code",
   "execution_count": 21,
   "metadata": {},
   "outputs": [
    {
     "data": {
      "application/vnd.jupyter.widget-view+json": {
       "model_id": "36102fedaccb4f0d937d5a7fb2ee3c99",
       "version_major": 2,
       "version_minor": 0
      },
      "text/plain": [
       "Tab(children=(HTML(value='<div id=\"overview-content\" class=\"row variable spacing\">\\n    <div class=\"row\">\\n   …"
      ]
     },
     "metadata": {},
     "output_type": "display_data"
    },
    {
     "data": {
      "text/html": [
       "Report generated with <a href=\"https://github.com/pandas-profiling/pandas-profiling\">pandas-profiling</a>."
      ],
      "text/plain": [
       "<IPython.core.display.HTML object>"
      ]
     },
     "metadata": {},
     "output_type": "display_data"
    },
    {
     "data": {
      "text/plain": []
     },
     "execution_count": 21,
     "metadata": {},
     "output_type": "execute_result"
    }
   ],
   "source": [
    "data_profile"
   ]
  },
  {
   "cell_type": "markdown",
   "metadata": {},
   "source": [
    "## Observations from above report1\n",
    "1. no missing values\n",
    "2. no duplicate rows\n",
    "3. no outlier \n",
    "4. target variable consist of 2,3 and 4 "
   ]
  },
  {
   "cell_type": "markdown",
   "metadata": {},
   "source": [
    "## From the above report we can infer that the EmpNumber has high cardinality , all entry in it are unique so removing it will not affect other elements"
   ]
  },
  {
   "cell_type": "code",
   "execution_count": 24,
   "metadata": {},
   "outputs": [],
   "source": [
    "data.drop('EmpNumber',axis=1,inplace=True)"
   ]
  },
  {
   "cell_type": "code",
   "execution_count": 25,
   "metadata": {},
   "outputs": [
    {
     "name": "stdout",
     "output_type": "stream",
     "text": [
      "<class 'pandas.core.frame.DataFrame'>\n",
      "RangeIndex: 1200 entries, 0 to 1199\n",
      "Data columns (total 27 columns):\n",
      "Age                             1200 non-null int64\n",
      "Gender                          1200 non-null object\n",
      "EducationBackground             1200 non-null object\n",
      "MaritalStatus                   1200 non-null object\n",
      "EmpDepartment                   1200 non-null object\n",
      "EmpJobRole                      1200 non-null object\n",
      "BusinessTravelFrequency         1200 non-null object\n",
      "DistanceFromHome                1200 non-null int64\n",
      "EmpEducationLevel               1200 non-null int64\n",
      "EmpEnvironmentSatisfaction      1200 non-null int64\n",
      "EmpHourlyRate                   1200 non-null int64\n",
      "EmpJobInvolvement               1200 non-null int64\n",
      "EmpJobLevel                     1200 non-null int64\n",
      "EmpJobSatisfaction              1200 non-null int64\n",
      "NumCompaniesWorked              1200 non-null int64\n",
      "OverTime                        1200 non-null object\n",
      "EmpLastSalaryHikePercent        1200 non-null int64\n",
      "EmpRelationshipSatisfaction     1200 non-null int64\n",
      "TotalWorkExperienceInYears      1200 non-null int64\n",
      "TrainingTimesLastYear           1200 non-null int64\n",
      "EmpWorkLifeBalance              1200 non-null int64\n",
      "ExperienceYearsAtThisCompany    1200 non-null int64\n",
      "ExperienceYearsInCurrentRole    1200 non-null int64\n",
      "YearsSinceLastPromotion         1200 non-null int64\n",
      "YearsWithCurrManager            1200 non-null int64\n",
      "Attrition                       1200 non-null object\n",
      "PerformanceRating               1200 non-null int64\n",
      "dtypes: int64(19), object(8)\n",
      "memory usage: 253.2+ KB\n"
     ]
    }
   ],
   "source": [
    "data.info()"
   ]
  },
  {
   "cell_type": "markdown",
   "metadata": {},
   "source": [
    "## Bivariate Analysis"
   ]
  },
  {
   "cell_type": "markdown",
   "metadata": {},
   "source": [
    "## Data Visualization"
   ]
  },
  {
   "cell_type": "markdown",
   "metadata": {},
   "source": [
    "## Import matplot and seaborn packages"
   ]
  },
  {
   "cell_type": "code",
   "execution_count": 26,
   "metadata": {},
   "outputs": [],
   "source": [
    "import matplotlib as mlt\n",
    "import matplotlib.pyplot as plt\n",
    "%matplotlib inline\n",
    "import seaborn as sns\n",
    "from scipy import stats"
   ]
  },
  {
   "cell_type": "markdown",
   "metadata": {},
   "source": [
    "## Grouping Department to find the performance rate in an order"
   ]
  },
  {
   "cell_type": "code",
   "execution_count": 27,
   "metadata": {},
   "outputs": [],
   "source": [
    "for i, ep in enumerate (data.EmpDepartment):\n",
    "    if ep=='Sales':\n",
    "        data.loc[i,'Department']=1\n",
    "    elif ep=='Human Resources':\n",
    "        data.loc[i,'Department']=2\n",
    "    elif ep=='Development':\n",
    "        data.loc[i,'Department']=3\n",
    "    elif ep=='Data Science':\n",
    "        data.loc[i,'Department']=4\n",
    "    elif ep=='Research & Development':\n",
    "        data.loc[i,'Department']=5\n",
    "    elif ep=='Finance':\n",
    "        data.loc[i,'Department']=6\n",
    "        \n",
    "   "
   ]
  },
  {
   "cell_type": "code",
   "execution_count": 28,
   "metadata": {},
   "outputs": [],
   "source": [
    "Dep_per=data.groupby('PerformanceRating').mean()['Department']"
   ]
  },
  {
   "cell_type": "code",
   "execution_count": 29,
   "metadata": {},
   "outputs": [
    {
     "data": {
      "text/plain": [
       "PerformanceRating\n",
       "2    2.989691\n",
       "3    3.040046\n",
       "4    3.151515\n",
       "Name: Department, dtype: float64"
      ]
     },
     "execution_count": 29,
     "metadata": {},
     "output_type": "execute_result"
    }
   ],
   "source": [
    "Dep_per"
   ]
  },
  {
   "cell_type": "code",
   "execution_count": 30,
   "metadata": {},
   "outputs": [
    {
     "data": {
      "text/plain": [
       "<matplotlib.legend.Legend at 0x265f7e36c88>"
      ]
     },
     "execution_count": 30,
     "metadata": {},
     "output_type": "execute_result"
    },
    {
     "data": {
      "image/png": "[encoded data removed]",
      "text/plain": [
       "<Figure size 432x288 with 1 Axes>"
      ]
     },
     "metadata": {},
     "output_type": "display_data"
    }
   ],
   "source": [
    "Dep_per.plot.pie()\n",
    "plt.legend()"
   ]
  },
  {
   "cell_type": "code",
   "execution_count": 31,
   "metadata": {},
   "outputs": [
    {
     "name": "stderr",
     "output_type": "stream",
     "text": [
      "No handles with labels found to put in legend.\n"
     ]
    },
    {
     "data": {
      "text/plain": [
       "<matplotlib.legend.Legend at 0x265f7a07a58>"
      ]
     },
     "execution_count": 31,
     "metadata": {},
     "output_type": "execute_result"
    },
    {
     "data": {
      "image/png": "[encoded data removed]",
      "text/plain": [
       "<Figure size 432x288 with 1 Axes>"
      ]
     },
     "metadata": {
      "needs_background": "light"
     },
     "output_type": "display_data"
    }
   ],
   "source": [
    " sns.barplot(x=\"Department\", y=\"PerformanceRating\", data=data)\n",
    "plt.legend()"
   ]
  },
  {
   "cell_type": "code",
   "execution_count": 32,
   "metadata": {},
   "outputs": [
    {
     "data": {
      "text/plain": [
       "Text(0.5, 1.0, 'Plot 1')"
      ]
     },
     "execution_count": 32,
     "metadata": {},
     "output_type": "execute_result"
    },
    {
     "data": {
      "image/png": "[encoded data removed]",
      "text/plain": [
       "<Figure size 432x288 with 1 Axes>"
      ]
     },
     "metadata": {
      "needs_background": "light"
     },
     "output_type": "display_data"
    }
   ],
   "source": [
    " sns.violinplot(x=\"Department\", y=\"PerformanceRating\", data=data).set_title('Plot 1')\n"
   ]
  },
  {
   "cell_type": "markdown",
   "metadata": {},
   "source": [
    "## From the above graph, we can infer that distribution of outsanding and excellent performance of Employee department  wise as follows.\n",
    "1. Development Department(3.0)\n",
    "2. Datascience  Department(4.0)\n",
    "3. Research and Development(5.0)\n",
    "4. Sales(1.0)\n",
    "5. Human Resources(2.0)\n",
    "6. Finance(6.0)"
   ]
  },
  {
   "cell_type": "markdown",
   "metadata": {},
   "source": [
    "## As Emp Environment Satisfaction correlates more, we check the relationship of EmpEnvSat with Performance Rating."
   ]
  },
  {
   "cell_type": "code",
   "execution_count": 34,
   "metadata": {},
   "outputs": [],
   "source": [
    "Rel_1=data.groupby('PerformanceRating').mean()['EmpEnvironmentSatisfaction']"
   ]
  },
  {
   "cell_type": "code",
   "execution_count": 33,
   "metadata": {},
   "outputs": [
    {
     "data": {
      "text/plain": [
       "PerformanceRating\n",
       "2    1.582474\n",
       "3    2.911899\n",
       "4    3.083333\n",
       "Name: EmpEnvironmentSatisfaction, dtype: float64"
      ]
     },
     "execution_count": 33,
     "metadata": {},
     "output_type": "execute_result"
    }
   ],
   "source": [
    "Rel_1"
   ]
  },
  {
   "cell_type": "code",
   "execution_count": 34,
   "metadata": {},
   "outputs": [
    {
     "data": {
      "text/plain": [
       "<matplotlib.axes._subplots.AxesSubplot at 0x1bd2d9bae10>"
      ]
     },
     "execution_count": 34,
     "metadata": {},
     "output_type": "execute_result"
    },
    {
     "data": {
      "image/png": "[encoded data removed]",
      "text/plain": [
       "<Figure size 432x288 with 1 Axes>"
      ]
     },
     "metadata": {
      "needs_background": "light"
     },
     "output_type": "display_data"
    }
   ],
   "source": [
    "Rel_1.plot.bar()"
   ]
  },
  {
   "cell_type": "code",
   "execution_count": 35,
   "metadata": {},
   "outputs": [
    {
     "data": {
      "image/png": "[encoded data removed]",
      "text/plain": [
       "<Figure size 432x288 with 1 Axes>"
      ]
     },
     "metadata": {
      "needs_background": "light"
     },
     "output_type": "display_data"
    }
   ],
   "source": [
    " Rel_2=sns.barplot(x=\"EmpEnvironmentSatisfaction\", y=\"PerformanceRating\", data=data).set_title('Plot 2')"
   ]
  },
  {
   "cell_type": "code",
   "execution_count": 36,
   "metadata": {},
   "outputs": [],
   "source": [
    "## 1. From the above graph we can infer that employee who have high degree of satisfaction give out outstanding performance hence the feature is linear"
   ]
  },
  {
   "cell_type": "code",
   "execution_count": 37,
   "metadata": {},
   "outputs": [
    {
     "data": {
      "image/png": "[encoded data removed]",
      "text/plain": [
       "<Figure size 432x288 with 1 Axes>"
      ]
     },
     "metadata": {
      "needs_background": "light"
     },
     "output_type": "display_data"
    }
   ],
   "source": [
    " Rel_2=sns.barplot(x=\"EmpLastSalaryHikePercent\", y=\"PerformanceRating\", data=data)"
   ]
  },
  {
   "cell_type": "code",
   "execution_count": 38,
   "metadata": {},
   "outputs": [
    {
     "data": {
      "image/png": "[encoded data removed]",
      "text/plain": [
       "<Figure size 432x288 with 1 Axes>"
      ]
     },
     "metadata": {
      "needs_background": "light"
     },
     "output_type": "display_data"
    }
   ],
   "source": [
    " Rel_new=sns.lineplot(x=\"EmpLastSalaryHikePercent\", y=\"PerformanceRating\", data=data).set_title('Plot 3')"
   ]
  },
  {
   "cell_type": "code",
   "execution_count": 39,
   "metadata": {},
   "outputs": [],
   "source": [
    "## 2. Second highest correlation factor EmpLastSalaryHikePercent shows that if the emp has hike percent of more than 18 percent their performance were excellent and outstanding."
   ]
  },
  {
   "cell_type": "code",
   "execution_count": 40,
   "metadata": {},
   "outputs": [
    {
     "data": {
      "image/png": "[encoded data removed]",
      "text/plain": [
       "<Figure size 432x288 with 1 Axes>"
      ]
     },
     "metadata": {
      "needs_background": "light"
     },
     "output_type": "display_data"
    }
   ],
   "source": [
    "Rel_5=data.plot(kind='hist',stacked=True,x='PerformanceRating',y='YearsSinceLastPromotion').set_title('Plot 4')"
   ]
  },
  {
   "cell_type": "markdown",
   "metadata": {},
   "source": [
    "## 3. The above graph depicts that if promotion has been awarded within 2 years those employee gets motivated more and perform well with high rating. On other case their performance were low"
   ]
  },
  {
   "cell_type": "markdown",
   "metadata": {},
   "source": [
    "## Grouping of age because we have all range of age from 18 to 61"
   ]
  },
  {
   "cell_type": "code",
   "execution_count": 44,
   "metadata": {},
   "outputs": [],
   "source": [
    "for i,x in enumerate (data.Age):\n",
    "    if (x>17) & (x<25):\n",
    "        data.loc[i,'age']=25\n",
    "    elif (x>24) & (x<30):\n",
    "        data.loc[i,'age']=30\n",
    "    elif (x>29) & (x<35):\n",
    "        data.loc[i,'age']=35 \n",
    "    elif (x>34) & (x<40):\n",
    "        data.loc[i,'age']=40\n",
    "    elif (x>39) & (x<45):\n",
    "        data.loc[i,'age']=45\n",
    "    elif (x>44) & (x<50):\n",
    "        data.loc[i,'age']=50\n",
    "    elif (x>49) & (x<55):\n",
    "        data.loc[i,'age']=55\n",
    "    elif (x>54) & (x<61):\n",
    "        data.loc[i,'age']=60"
   ]
  },
  {
   "cell_type": "code",
   "execution_count": 45,
   "metadata": {},
   "outputs": [
    {
     "data": {
      "text/plain": [
       "0       35\n",
       "1       50\n",
       "2       45\n",
       "3       45\n",
       "4       60\n",
       "5       30\n",
       "6       55\n",
       "7       30\n",
       "8       40\n",
       "9       40\n",
       "10      45\n",
       "11      50\n",
       "12      35\n",
       "13      30\n",
       "14      45\n",
       "15      35\n",
       "16      40\n",
       "17      60\n",
       "18      45\n",
       "19      30\n",
       "20      30\n",
       "21      55\n",
       "22      40\n",
       "23      35\n",
       "24      35\n",
       "25      55\n",
       "26      35\n",
       "27      30\n",
       "28      50\n",
       "29      25\n",
       "        ..\n",
       "1170    40\n",
       "1171    45\n",
       "1172    50\n",
       "1173    45\n",
       "1174    35\n",
       "1175    30\n",
       "1176    25\n",
       "1177    45\n",
       "1178    25\n",
       "1179    35\n",
       "1180    35\n",
       "1181    35\n",
       "1182    30\n",
       "1183    40\n",
       "1184    30\n",
       "1185    40\n",
       "1186    55\n",
       "1187    40\n",
       "1188    25\n",
       "1189    35\n",
       "1190    25\n",
       "1191    30\n",
       "1192    40\n",
       "1193    30\n",
       "1194    50\n",
       "1195    30\n",
       "1196    40\n",
       "1197    55\n",
       "1198    35\n",
       "1199    25\n",
       "Name: age, Length: 1200, dtype: int32"
      ]
     },
     "execution_count": 45,
     "metadata": {},
     "output_type": "execute_result"
    }
   ],
   "source": [
    "data['age'].astype(int)"
   ]
  },
  {
   "cell_type": "code",
   "execution_count": 46,
   "metadata": {},
   "outputs": [
    {
     "data": {
      "text/plain": [
       "Text(0.5, 1.0, 'Plot 5')"
      ]
     },
     "execution_count": 46,
     "metadata": {},
     "output_type": "execute_result"
    },
    {
     "data": {
      "image/png": "[encoded data removed]",
      "text/plain": [
       "<Figure size 432x288 with 1 Axes>"
      ]
     },
     "metadata": {
      "needs_background": "light"
     },
     "output_type": "display_data"
    }
   ],
   "source": [
    " sns.lineplot(x=\"age\", y=\"PerformanceRating\", data=data).set_title('Plot 5')"
   ]
  },
  {
   "cell_type": "code",
   "execution_count": 47,
   "metadata": {},
   "outputs": [
    {
     "data": {
      "text/plain": [
       "0       35\n",
       "1       50\n",
       "2       45\n",
       "3       45\n",
       "4       60\n",
       "5       30\n",
       "6       55\n",
       "7       30\n",
       "8       40\n",
       "9       40\n",
       "10      45\n",
       "11      50\n",
       "12      35\n",
       "13      30\n",
       "14      45\n",
       "15      35\n",
       "16      40\n",
       "17      60\n",
       "18      45\n",
       "19      30\n",
       "20      30\n",
       "21      55\n",
       "22      40\n",
       "23      35\n",
       "24      35\n",
       "25      55\n",
       "26      35\n",
       "27      30\n",
       "28      50\n",
       "29      25\n",
       "        ..\n",
       "1170    40\n",
       "1171    45\n",
       "1172    50\n",
       "1173    45\n",
       "1174    35\n",
       "1175    30\n",
       "1176    25\n",
       "1177    45\n",
       "1178    25\n",
       "1179    35\n",
       "1180    35\n",
       "1181    35\n",
       "1182    30\n",
       "1183    40\n",
       "1184    30\n",
       "1185    40\n",
       "1186    55\n",
       "1187    40\n",
       "1188    25\n",
       "1189    35\n",
       "1190    25\n",
       "1191    30\n",
       "1192    40\n",
       "1193    30\n",
       "1194    50\n",
       "1195    30\n",
       "1196    40\n",
       "1197    55\n",
       "1198    35\n",
       "1199    25\n",
       "Name: age, Length: 1200, dtype: int32"
      ]
     },
     "execution_count": 47,
     "metadata": {},
     "output_type": "execute_result"
    }
   ],
   "source": [
    "data['age'].astype(int)"
   ]
  },
  {
   "cell_type": "code",
   "execution_count": 48,
   "metadata": {},
   "outputs": [
    {
     "data": {
      "text/plain": [
       "Counter({35.0: 262,\n",
       "         50.0: 117,\n",
       "         45.0: 170,\n",
       "         60.0: 52,\n",
       "         30.0: 190,\n",
       "         55.0: 88,\n",
       "         40.0: 244,\n",
       "         25.0: 77})"
      ]
     },
     "execution_count": 48,
     "metadata": {},
     "output_type": "execute_result"
    }
   ],
   "source": [
    "Counter(data.age)"
   ]
  },
  {
   "cell_type": "code",
   "execution_count": 49,
   "metadata": {},
   "outputs": [
    {
     "data": {
      "image/png": "[encoded data removed]",
      "text/plain": [
       "<Figure size 432x288 with 1 Axes>"
      ]
     },
     "metadata": {
      "needs_background": "light"
     },
     "output_type": "display_data"
    }
   ],
   "source": [
    "Rel_3new=data.plot(kind='hist',stacked=True,x='age',y='PerformanceRating')"
   ]
  },
  {
   "cell_type": "code",
   "execution_count": 50,
   "metadata": {},
   "outputs": [
    {
     "data": {
      "text/plain": [
       "<matplotlib.axes._subplots.AxesSubplot at 0x1bd2bc9f7f0>"
      ]
     },
     "execution_count": 50,
     "metadata": {},
     "output_type": "execute_result"
    },
    {
     "data": {
      "image/png": "[encoded data removed]",
      "text/plain": [
       "<Figure size 432x288 with 1 Axes>"
      ]
     },
     "metadata": {
      "needs_background": "light"
     },
     "output_type": "display_data"
    }
   ],
   "source": [
    "sns.distplot(data.age)"
   ]
  },
  {
   "cell_type": "markdown",
   "metadata": {},
   "source": [
    "## 4. The above graphs show out the distribution of ages in the range of 18 to 60.We can infer that emp with the age range of 34 to 40 perform well.This shows that emp would have relavant exp with the work and also might have maturity and taking resposibility in completing their work."
   ]
  },
  {
   "cell_type": "code",
   "execution_count": 52,
   "metadata": {},
   "outputs": [],
   "source": [
    "for i,de in enumerate (data.MaritalStatus):\n",
    "    if de=='Single':\n",
    "        data.loc[i,'MaritalStatus_new']=1\n",
    "    elif de=='Married':\n",
    "        data.loc[i,'MaritalStatus_new']=2\n",
    "    elif de=='Divorced':\n",
    "        data.loc[i,'MaritalStatus_new']=3"
   ]
  },
  {
   "cell_type": "code",
   "execution_count": 53,
   "metadata": {},
   "outputs": [
    {
     "data": {
      "text/plain": [
       "Text(0.5, 1.0, 'Plot 6')"
      ]
     },
     "execution_count": 53,
     "metadata": {},
     "output_type": "execute_result"
    },
    {
     "data": {
      "image/png": "[encoded data removed]",
      "text/plain": [
       "<Figure size 432x288 with 1 Axes>"
      ]
     },
     "metadata": {
      "needs_background": "light"
     },
     "output_type": "display_data"
    }
   ],
   "source": [
    " sns.barplot(x=\"PerformanceRating\", y=\"MaritalStatus_new\", data=data).set_title('Plot 6')"
   ]
  },
  {
   "cell_type": "code",
   "execution_count": 54,
   "metadata": {},
   "outputs": [
    {
     "data": {
      "text/plain": [
       "<matplotlib.axes._subplots.AxesSubplot at 0x1bd2bb4af98>"
      ]
     },
     "execution_count": 54,
     "metadata": {},
     "output_type": "execute_result"
    },
    {
     "data": {
      "image/png": "[encoded data removed]",
      "text/plain": [
       "<Figure size 432x288 with 1 Axes>"
      ]
     },
     "metadata": {
      "needs_background": "light"
     },
     "output_type": "display_data"
    }
   ],
   "source": [
    "data.plot(kind='hist',stacked=True,x='PerformanceRating',y='MaritalStatus_new')"
   ]
  },
  {
   "cell_type": "code",
   "execution_count": 55,
   "metadata": {},
   "outputs": [],
   "source": [
    "## 5. From the graph it is clear that emp who were married perform well"
   ]
  },
  {
   "cell_type": "code",
   "execution_count": 56,
   "metadata": {},
   "outputs": [
    {
     "data": {
      "text/plain": [
       "<matplotlib.axes._subplots.AxesSubplot at 0x1bd2d7543c8>"
      ]
     },
     "execution_count": 56,
     "metadata": {},
     "output_type": "execute_result"
    },
    {
     "data": {
      "image/png": "[encoded data removed]",
      "text/plain": [
       "<Figure size 432x288 with 1 Axes>"
      ]
     },
     "metadata": {
      "needs_background": "light"
     },
     "output_type": "display_data"
    }
   ],
   "source": [
    "\n",
    " sns.lineplot(x=\"YearsWithCurrManager\", y=\"PerformanceRating\", data=data)"
   ]
  },
  {
   "cell_type": "markdown",
   "metadata": {},
   "source": [
    "## 6. Employee working under same manager for more than 8 years perform well.This case might be like manager would knew abt emp expertise well so he can allot project accordingly.Hence they perform well"
   ]
  },
  {
   "cell_type": "code",
   "execution_count": 57,
   "metadata": {},
   "outputs": [
    {
     "data": {
      "text/plain": [
       "<matplotlib.axes._subplots.AxesSubplot at 0x1bd2d7e4668>"
      ]
     },
     "execution_count": 57,
     "metadata": {},
     "output_type": "execute_result"
    },
    {
     "data": {
      "image/png": "[encoded data removed]",
      "text/plain": [
       "<Figure size 432x288 with 1 Axes>"
      ]
     },
     "metadata": {
      "needs_background": "light"
     },
     "output_type": "display_data"
    }
   ],
   "source": [
    "sns.lineplot(x='ExperienceYearsAtThisCompany', y=\"PerformanceRating\", data=data)\n",
    "    "
   ]
  },
  {
   "cell_type": "markdown",
   "metadata": {},
   "source": [
    "## 7. Employee with more than 10yrs exp in same company perform well.This would be because they might be adopted to the environment.This factor is correlated more with EmpEnvironment Satisfaction"
   ]
  },
  {
   "cell_type": "code",
   "execution_count": 58,
   "metadata": {},
   "outputs": [
    {
     "data": {
      "text/plain": [
       "Text(0.5, 1.0, 'Plot 7')"
      ]
     },
     "execution_count": 58,
     "metadata": {},
     "output_type": "execute_result"
    },
    {
     "data": {
      "image/png": "[encoded data removed]",
      "text/plain": [
       "<Figure size 432x288 with 1 Axes>"
      ]
     },
     "metadata": {
      "needs_background": "light"
     },
     "output_type": "display_data"
    }
   ],
   "source": [
    "\n",
    "sns.lineplot(x='TrainingTimesLastYear', y=\"PerformanceRating\", data=data).set_title('Plot 7')"
   ]
  },
  {
   "cell_type": "markdown",
   "metadata": {},
   "source": [
    "## 8. Emp who have attended training for only 2 yrs perform well.If the training count is less and more than that their performance is low"
   ]
  },
  {
   "cell_type": "code",
   "execution_count": 59,
   "metadata": {},
   "outputs": [],
   "source": [
    "years_exp=data.groupby('PerformanceRating').mean()[['TrainingTimesLastYear','ExperienceYearsAtThisCompany','TotalWorkExperienceInYears']]"
   ]
  },
  {
   "cell_type": "code",
   "execution_count": 60,
   "metadata": {},
   "outputs": [
    {
     "data": {
      "text/html": [
       "<div>\n",
       "<style scoped>\n",
       "    .dataframe tbody tr th:only-of-type {\n",
       "        vertical-align: middle;\n",
       "    }\n",
       "\n",
       "    .dataframe tbody tr th {\n",
       "        vertical-align: top;\n",
       "    }\n",
       "\n",
       "    .dataframe thead th {\n",
       "        text-align: right;\n",
       "    }\n",
       "</style>\n",
       "<table border=\"1\" class=\"dataframe\">\n",
       "  <thead>\n",
       "    <tr style=\"text-align: right;\">\n",
       "      <th></th>\n",
       "      <th>TrainingTimesLastYear</th>\n",
       "      <th>ExperienceYearsAtThisCompany</th>\n",
       "      <th>TotalWorkExperienceInYears</th>\n",
       "    </tr>\n",
       "    <tr>\n",
       "      <th>PerformanceRating</th>\n",
       "      <th></th>\n",
       "      <th></th>\n",
       "      <th></th>\n",
       "    </tr>\n",
       "  </thead>\n",
       "  <tbody>\n",
       "    <tr>\n",
       "      <th>2</th>\n",
       "      <td>2.757732</td>\n",
       "      <td>9.097938</td>\n",
       "      <td>12.752577</td>\n",
       "    </tr>\n",
       "    <tr>\n",
       "      <th>3</th>\n",
       "      <td>2.803204</td>\n",
       "      <td>6.676201</td>\n",
       "      <td>11.076659</td>\n",
       "    </tr>\n",
       "    <tr>\n",
       "      <th>4</th>\n",
       "      <td>2.712121</td>\n",
       "      <td>6.765152</td>\n",
       "      <td>10.916667</td>\n",
       "    </tr>\n",
       "  </tbody>\n",
       "</table>\n",
       "</div>"
      ],
      "text/plain": [
       "                   TrainingTimesLastYear  ExperienceYearsAtThisCompany  \\\n",
       "PerformanceRating                                                        \n",
       "2                               2.757732                      9.097938   \n",
       "3                               2.803204                      6.676201   \n",
       "4                               2.712121                      6.765152   \n",
       "\n",
       "                   TotalWorkExperienceInYears  \n",
       "PerformanceRating                              \n",
       "2                                   12.752577  \n",
       "3                                   11.076659  \n",
       "4                                   10.916667  "
      ]
     },
     "execution_count": 60,
     "metadata": {},
     "output_type": "execute_result"
    }
   ],
   "source": [
    "years_exp"
   ]
  },
  {
   "cell_type": "code",
   "execution_count": 61,
   "metadata": {},
   "outputs": [
    {
     "data": {
      "text/plain": [
       "<matplotlib.axes._subplots.AxesSubplot at 0x1bd2dbc6080>"
      ]
     },
     "execution_count": 61,
     "metadata": {},
     "output_type": "execute_result"
    },
    {
     "data": {
      "image/png": "[encoded data removed]",
      "text/plain": [
       "<Figure size 432x288 with 1 Axes>"
      ]
     },
     "metadata": {
      "needs_background": "light"
     },
     "output_type": "display_data"
    }
   ],
   "source": [
    "years_exp.plot.area()"
   ]
  },
  {
   "cell_type": "code",
   "execution_count": 62,
   "metadata": {},
   "outputs": [
    {
     "data": {
      "text/plain": [
       "<matplotlib.axes._subplots.AxesSubplot at 0x1bd2bad77f0>"
      ]
     },
     "execution_count": 62,
     "metadata": {},
     "output_type": "execute_result"
    },
    {
     "data": {
      "image/png": "[encoded data removed]",
      "text/plain": [
       "<Figure size 432x288 with 1 Axes>"
      ]
     },
     "metadata": {
      "needs_background": "light"
     },
     "output_type": "display_data"
    }
   ],
   "source": [
    "years_exp.plot.line()"
   ]
  },
  {
   "cell_type": "markdown",
   "metadata": {},
   "source": [
    "## 9. Combined relation of emp training times,yrs at same company and total work exp shows that the mean of 2 times training, 6 yrs in same company & 10 yrs of total exp perform well with outstanding rate."
   ]
  },
  {
   "cell_type": "code",
   "execution_count": 63,
   "metadata": {},
   "outputs": [],
   "source": [
    "for i,st in enumerate (data.Attrition):\n",
    "    if st=='Yes':\n",
    "        data.loc[i,'Attrition_map']=1\n",
    "    elif st=='No':\n",
    "        data.loc[i,'Attrition_map']=2"
   ]
  },
  {
   "cell_type": "code",
   "execution_count": 64,
   "metadata": {},
   "outputs": [
    {
     "data": {
      "text/plain": [
       "Text(0.5, 1.0, 'Plot 8')"
      ]
     },
     "execution_count": 64,
     "metadata": {},
     "output_type": "execute_result"
    },
    {
     "data": {
      "image/png": "[encoded data removed]",
      "text/plain": [
       "<Figure size 432x288 with 1 Axes>"
      ]
     },
     "metadata": {
      "needs_background": "light"
     },
     "output_type": "display_data"
    }
   ],
   "source": [
    "\n",
    "data.plot(kind='hist',stacked=True,x='PerformanceRating',y='Attrition_map').set_title('Plot 8')\n",
    "    "
   ]
  },
  {
   "cell_type": "markdown",
   "metadata": {},
   "source": [
    "## 10. Emp with stress in job perform little but the frquency is not more.So this would not affect the performance"
   ]
  },
  {
   "cell_type": "code",
   "execution_count": 65,
   "metadata": {},
   "outputs": [],
   "source": [
    "for i, ga in enumerate (data.DistanceFromHome):\n",
    "    if ga<=5:\n",
    "        data.loc[i,'distancefromhome']=1.0\n",
    "    elif (ga>5) & (ga<=10):\n",
    "        data.loc[i,'distancefromhome']=2.0\n",
    "    elif (ga>10) & (ga<=15):\n",
    "        data.loc[i,'distancefromhome']=3.0\n",
    "    elif (ga>15) & (ga<=20):\n",
    "        data.loc[i,'distancefromhome']=4.0\n",
    "    elif (ga>20) & (ga<=25):\n",
    "        data.loc[i,'distancefromhome']=5.0\n",
    "    elif (ga>25) & (ga<=30):\n",
    "        data.loc[i,'distancefromhome']=6.0"
   ]
  },
  {
   "cell_type": "code",
   "execution_count": 66,
   "metadata": {},
   "outputs": [],
   "source": [
    "Dist_home=data.groupby('PerformanceRating').mean()[['DistanceFromHome']]"
   ]
  },
  {
   "cell_type": "code",
   "execution_count": 67,
   "metadata": {},
   "outputs": [
    {
     "data": {
      "text/plain": [
       "<matplotlib.axes._subplots.AxesSubplot at 0x1bd2da90860>"
      ]
     },
     "execution_count": 67,
     "metadata": {},
     "output_type": "execute_result"
    },
    {
     "data": {
      "image/png": "[encoded data removed]",
      "text/plain": [
       "<Figure size 432x288 with 1 Axes>"
      ]
     },
     "metadata": {
      "needs_background": "light"
     },
     "output_type": "display_data"
    }
   ],
   "source": [
    "Dist_home.plot.area()"
   ]
  },
  {
   "cell_type": "code",
   "execution_count": 68,
   "metadata": {},
   "outputs": [
    {
     "data": {
      "text/plain": [
       "Text(0.5, 1.0, 'Plot 9')"
      ]
     },
     "execution_count": 68,
     "metadata": {},
     "output_type": "execute_result"
    },
    {
     "data": {
      "image/png": "[encoded data removed]",
      "text/plain": [
       "<Figure size 432x288 with 1 Axes>"
      ]
     },
     "metadata": {
      "needs_background": "light"
     },
     "output_type": "display_data"
    }
   ],
   "source": [
    "data.plot(kind='hist',stacked=True,x='PerformanceRating',y='DistanceFromHome').set_title('Plot 9')"
   ]
  },
  {
   "cell_type": "markdown",
   "metadata": {},
   "source": [
    "## 11. Emp who stay very near i.e. less than 3km to company perform well.This is because they might feel fresh as they dont spend much time in travel.Hence they perform well"
   ]
  },
  {
   "cell_type": "code",
   "execution_count": 69,
   "metadata": {},
   "outputs": [],
   "source": [
    "\n",
    "Hour_rate=data.groupby('PerformanceRating').mean()[['EmpHourlyRate']]"
   ]
  },
  {
   "cell_type": "code",
   "execution_count": 70,
   "metadata": {},
   "outputs": [
    {
     "data": {
      "text/html": [
       "<div>\n",
       "<style scoped>\n",
       "    .dataframe tbody tr th:only-of-type {\n",
       "        vertical-align: middle;\n",
       "    }\n",
       "\n",
       "    .dataframe tbody tr th {\n",
       "        vertical-align: top;\n",
       "    }\n",
       "\n",
       "    .dataframe thead th {\n",
       "        text-align: right;\n",
       "    }\n",
       "</style>\n",
       "<table border=\"1\" class=\"dataframe\">\n",
       "  <thead>\n",
       "    <tr style=\"text-align: right;\">\n",
       "      <th></th>\n",
       "      <th>EmpHourlyRate</th>\n",
       "    </tr>\n",
       "    <tr>\n",
       "      <th>PerformanceRating</th>\n",
       "      <th></th>\n",
       "    </tr>\n",
       "  </thead>\n",
       "  <tbody>\n",
       "    <tr>\n",
       "      <th>2</th>\n",
       "      <td>68.216495</td>\n",
       "    </tr>\n",
       "    <tr>\n",
       "      <th>3</th>\n",
       "      <td>65.609840</td>\n",
       "    </tr>\n",
       "    <tr>\n",
       "      <th>4</th>\n",
       "      <td>65.159091</td>\n",
       "    </tr>\n",
       "  </tbody>\n",
       "</table>\n",
       "</div>"
      ],
      "text/plain": [
       "                   EmpHourlyRate\n",
       "PerformanceRating               \n",
       "2                      68.216495\n",
       "3                      65.609840\n",
       "4                      65.159091"
      ]
     },
     "execution_count": 70,
     "metadata": {},
     "output_type": "execute_result"
    }
   ],
   "source": [
    "Hour_rate"
   ]
  },
  {
   "cell_type": "code",
   "execution_count": 71,
   "metadata": {},
   "outputs": [
    {
     "data": {
      "text/plain": [
       "<matplotlib.axes._subplots.AxesSubplot at 0x1bd2ee2f668>"
      ]
     },
     "execution_count": 71,
     "metadata": {},
     "output_type": "execute_result"
    },
    {
     "data": {
      "image/png": "[encoded data removed]",
      "text/plain": [
       "<Figure size 432x288 with 1 Axes>"
      ]
     },
     "metadata": {
      "needs_background": "light"
     },
     "output_type": "display_data"
    }
   ],
   "source": [
    "Hour_rate.plot.line()"
   ]
  },
  {
   "cell_type": "markdown",
   "metadata": {},
   "source": [
    "## 12. Hourly rate of working doesnt effect much since all the emp will have to follow minimum login time of 9 hrs.Hence this would not affect the performance Rate"
   ]
  },
  {
   "cell_type": "markdown",
   "metadata": {},
   "source": [
    "## Encoding"
   ]
  },
  {
   "cell_type": "code",
   "execution_count": 72,
   "metadata": {},
   "outputs": [],
   "source": [
    "from sklearn.preprocessing import LabelEncoder\n",
    "enc=LabelEncoder()\n",
    "\n",
    "enc_Gen=LabelEncoder()\n",
    "data.Gender=enc_Gen.fit_transform(data.Gender)\n",
    "\n",
    "enc_EmpDep=LabelEncoder()\n",
    "data.EmpDepartment=enc_EmpDep.fit_transform(data.EmpDepartment)\n",
    "\n",
    "enc_Job=LabelEncoder()\n",
    "data.EmpJobRole=enc_Job.fit_transform(data.EmpJobRole)\n",
    "\n",
    "\n",
    "enc_Edn=LabelEncoder()\n",
    "data.EducationBackground=enc_Edn.fit_transform(data.EducationBackground)\n",
    "\n",
    "\n",
    "enc_Busintravel=LabelEncoder()\n",
    "data.BusinessTravelFrequency=enc_Busintravel.fit_transform(data.BusinessTravelFrequency)\n",
    "\n",
    "enc_Over=LabelEncoder()\n",
    "data.OverTime=enc_Over.fit_transform(data.OverTime)\n"
   ]
  },
  {
   "cell_type": "code",
   "execution_count": 73,
   "metadata": {},
   "outputs": [
    {
     "data": {
      "text/html": [
       "<div>\n",
       "<style scoped>\n",
       "    .dataframe tbody tr th:only-of-type {\n",
       "        vertical-align: middle;\n",
       "    }\n",
       "\n",
       "    .dataframe tbody tr th {\n",
       "        vertical-align: top;\n",
       "    }\n",
       "\n",
       "    .dataframe thead th {\n",
       "        text-align: right;\n",
       "    }\n",
       "</style>\n",
       "<table border=\"1\" class=\"dataframe\">\n",
       "  <thead>\n",
       "    <tr style=\"text-align: right;\">\n",
       "      <th></th>\n",
       "      <th>Age</th>\n",
       "      <th>Gender</th>\n",
       "      <th>EducationBackground</th>\n",
       "      <th>MaritalStatus</th>\n",
       "      <th>EmpDepartment</th>\n",
       "      <th>EmpJobRole</th>\n",
       "      <th>BusinessTravelFrequency</th>\n",
       "      <th>DistanceFromHome</th>\n",
       "      <th>EmpEducationLevel</th>\n",
       "      <th>EmpEnvironmentSatisfaction</th>\n",
       "      <th>...</th>\n",
       "      <th>ExperienceYearsInCurrentRole</th>\n",
       "      <th>YearsSinceLastPromotion</th>\n",
       "      <th>YearsWithCurrManager</th>\n",
       "      <th>Attrition</th>\n",
       "      <th>PerformanceRating</th>\n",
       "      <th>Department</th>\n",
       "      <th>age</th>\n",
       "      <th>MaritalStatus_new</th>\n",
       "      <th>Attrition_map</th>\n",
       "      <th>distancefromhome</th>\n",
       "    </tr>\n",
       "  </thead>\n",
       "  <tbody>\n",
       "    <tr>\n",
       "      <th>0</th>\n",
       "      <td>32</td>\n",
       "      <td>1</td>\n",
       "      <td>2</td>\n",
       "      <td>Single</td>\n",
       "      <td>5</td>\n",
       "      <td>13</td>\n",
       "      <td>2</td>\n",
       "      <td>10</td>\n",
       "      <td>3</td>\n",
       "      <td>4</td>\n",
       "      <td>...</td>\n",
       "      <td>7</td>\n",
       "      <td>0</td>\n",
       "      <td>8</td>\n",
       "      <td>No</td>\n",
       "      <td>3</td>\n",
       "      <td>1.0</td>\n",
       "      <td>35.0</td>\n",
       "      <td>1.0</td>\n",
       "      <td>2.0</td>\n",
       "      <td>2.0</td>\n",
       "    </tr>\n",
       "    <tr>\n",
       "      <th>1</th>\n",
       "      <td>47</td>\n",
       "      <td>1</td>\n",
       "      <td>2</td>\n",
       "      <td>Single</td>\n",
       "      <td>5</td>\n",
       "      <td>13</td>\n",
       "      <td>2</td>\n",
       "      <td>14</td>\n",
       "      <td>4</td>\n",
       "      <td>4</td>\n",
       "      <td>...</td>\n",
       "      <td>7</td>\n",
       "      <td>1</td>\n",
       "      <td>7</td>\n",
       "      <td>No</td>\n",
       "      <td>3</td>\n",
       "      <td>1.0</td>\n",
       "      <td>50.0</td>\n",
       "      <td>1.0</td>\n",
       "      <td>2.0</td>\n",
       "      <td>3.0</td>\n",
       "    </tr>\n",
       "    <tr>\n",
       "      <th>2</th>\n",
       "      <td>40</td>\n",
       "      <td>1</td>\n",
       "      <td>1</td>\n",
       "      <td>Married</td>\n",
       "      <td>5</td>\n",
       "      <td>13</td>\n",
       "      <td>1</td>\n",
       "      <td>5</td>\n",
       "      <td>4</td>\n",
       "      <td>4</td>\n",
       "      <td>...</td>\n",
       "      <td>13</td>\n",
       "      <td>1</td>\n",
       "      <td>12</td>\n",
       "      <td>No</td>\n",
       "      <td>4</td>\n",
       "      <td>1.0</td>\n",
       "      <td>45.0</td>\n",
       "      <td>2.0</td>\n",
       "      <td>2.0</td>\n",
       "      <td>1.0</td>\n",
       "    </tr>\n",
       "    <tr>\n",
       "      <th>3</th>\n",
       "      <td>41</td>\n",
       "      <td>1</td>\n",
       "      <td>0</td>\n",
       "      <td>Divorced</td>\n",
       "      <td>3</td>\n",
       "      <td>8</td>\n",
       "      <td>2</td>\n",
       "      <td>10</td>\n",
       "      <td>4</td>\n",
       "      <td>2</td>\n",
       "      <td>...</td>\n",
       "      <td>6</td>\n",
       "      <td>12</td>\n",
       "      <td>6</td>\n",
       "      <td>No</td>\n",
       "      <td>3</td>\n",
       "      <td>2.0</td>\n",
       "      <td>45.0</td>\n",
       "      <td>3.0</td>\n",
       "      <td>2.0</td>\n",
       "      <td>2.0</td>\n",
       "    </tr>\n",
       "    <tr>\n",
       "      <th>4</th>\n",
       "      <td>60</td>\n",
       "      <td>1</td>\n",
       "      <td>2</td>\n",
       "      <td>Single</td>\n",
       "      <td>5</td>\n",
       "      <td>13</td>\n",
       "      <td>2</td>\n",
       "      <td>16</td>\n",
       "      <td>4</td>\n",
       "      <td>1</td>\n",
       "      <td>...</td>\n",
       "      <td>2</td>\n",
       "      <td>2</td>\n",
       "      <td>2</td>\n",
       "      <td>No</td>\n",
       "      <td>3</td>\n",
       "      <td>1.0</td>\n",
       "      <td>60.0</td>\n",
       "      <td>1.0</td>\n",
       "      <td>2.0</td>\n",
       "      <td>4.0</td>\n",
       "    </tr>\n",
       "  </tbody>\n",
       "</table>\n",
       "<p>5 rows × 32 columns</p>\n",
       "</div>"
      ],
      "text/plain": [
       "   Age  Gender  EducationBackground MaritalStatus  EmpDepartment  EmpJobRole  \\\n",
       "0   32       1                    2        Single              5          13   \n",
       "1   47       1                    2        Single              5          13   \n",
       "2   40       1                    1       Married              5          13   \n",
       "3   41       1                    0      Divorced              3           8   \n",
       "4   60       1                    2        Single              5          13   \n",
       "\n",
       "   BusinessTravelFrequency  DistanceFromHome  EmpEducationLevel  \\\n",
       "0                        2                10                  3   \n",
       "1                        2                14                  4   \n",
       "2                        1                 5                  4   \n",
       "3                        2                10                  4   \n",
       "4                        2                16                  4   \n",
       "\n",
       "   EmpEnvironmentSatisfaction  ...  ExperienceYearsInCurrentRole  \\\n",
       "0                           4  ...                             7   \n",
       "1                           4  ...                             7   \n",
       "2                           4  ...                            13   \n",
       "3                           2  ...                             6   \n",
       "4                           1  ...                             2   \n",
       "\n",
       "   YearsSinceLastPromotion  YearsWithCurrManager  Attrition  \\\n",
       "0                        0                     8         No   \n",
       "1                        1                     7         No   \n",
       "2                        1                    12         No   \n",
       "3                       12                     6         No   \n",
       "4                        2                     2         No   \n",
       "\n",
       "   PerformanceRating  Department   age  MaritalStatus_new  Attrition_map  \\\n",
       "0                  3         1.0  35.0                1.0            2.0   \n",
       "1                  3         1.0  50.0                1.0            2.0   \n",
       "2                  4         1.0  45.0                2.0            2.0   \n",
       "3                  3         2.0  45.0                3.0            2.0   \n",
       "4                  3         1.0  60.0                1.0            2.0   \n",
       "\n",
       "   distancefromhome  \n",
       "0               2.0  \n",
       "1               3.0  \n",
       "2               1.0  \n",
       "3               2.0  \n",
       "4               4.0  \n",
       "\n",
       "[5 rows x 32 columns]"
      ]
     },
     "execution_count": 73,
     "metadata": {},
     "output_type": "execute_result"
    }
   ],
   "source": [
    "data.head()"
   ]
  },
  {
   "cell_type": "markdown",
   "metadata": {},
   "source": [
    "## Parameters Considered to train the model where as follows based on relationship with target "
   ]
  },
  {
   "cell_type": "markdown",
   "metadata": {},
   "source": [
    "               1.EmpEnvironmentSatisfaction\n",
    "               2.EmpLastSalaryHikePercent\n",
    "               3.YearsSinceLastPromotion\n",
    "               4.Age\n",
    "               5.Gender\n",
    "               6.MaritalStatus\n",
    "               7.EmpDepartment\n",
    "               8.EmpWorkLifeBalance\n",
    "               9.TrainingTimesLastYear\n",
    "             \n",
    "             "
   ]
  },
  {
   "cell_type": "code",
   "execution_count": 74,
   "metadata": {},
   "outputs": [],
   "source": [
    "X=data.loc[:,['Age',\n",
    "              'Gender',\n",
    "             'MaritalStatus_new',\n",
    "             'EmpEnvironmentSatisfaction',\n",
    "             'YearsSinceLastPromotion',\n",
    "             'EmpLastSalaryHikePercent',\n",
    "              'EmpDepartment',\n",
    "              'TrainingTimesLastYear',\n",
    "              'EmpWorkLifeBalance',\n",
    "                          \n",
    "             ]]\n",
    "y=data.PerformanceRating"
   ]
  },
  {
   "cell_type": "markdown",
   "metadata": {},
   "source": [
    "## Training the model"
   ]
  },
  {
   "cell_type": "code",
   "execution_count": 75,
   "metadata": {},
   "outputs": [],
   "source": [
    "from sklearn.model_selection import train_test_split\n",
    "X_train,X_test,y_train,y_test=train_test_split(X,y,random_state=20,test_size=0.1)"
   ]
  },
  {
   "cell_type": "markdown",
   "metadata": {},
   "source": [
    "## KNN Model"
   ]
  },
  {
   "cell_type": "code",
   "execution_count": 76,
   "metadata": {},
   "outputs": [],
   "source": [
    "from sklearn.neighbors import KNeighborsClassifier\n",
    "model = KNeighborsClassifier(n_neighbors=3)\n",
    "model.fit(X_train, y_train)\n",
    "y_predict = model.predict(X_test)"
   ]
  },
  {
   "cell_type": "markdown",
   "metadata": {},
   "source": [
    "### Accuracy Score"
   ]
  },
  {
   "cell_type": "code",
   "execution_count": 77,
   "metadata": {},
   "outputs": [
    {
     "name": "stdout",
     "output_type": "stream",
     "text": [
      "0.7833333333333333\n"
     ]
    }
   ],
   "source": [
    "from sklearn.metrics import accuracy_score\n",
    "print(accuracy_score(y_test, y_predict))\n"
   ]
  },
  {
   "cell_type": "markdown",
   "metadata": {},
   "source": [
    "### Crosstab"
   ]
  },
  {
   "cell_type": "code",
   "execution_count": 78,
   "metadata": {},
   "outputs": [
    {
     "data": {
      "text/html": [
       "<div>\n",
       "<style scoped>\n",
       "    .dataframe tbody tr th:only-of-type {\n",
       "        vertical-align: middle;\n",
       "    }\n",
       "\n",
       "    .dataframe tbody tr th {\n",
       "        vertical-align: top;\n",
       "    }\n",
       "\n",
       "    .dataframe thead th {\n",
       "        text-align: right;\n",
       "    }\n",
       "</style>\n",
       "<table border=\"1\" class=\"dataframe\">\n",
       "  <thead>\n",
       "    <tr style=\"text-align: right;\">\n",
       "      <th>col_0</th>\n",
       "      <th>2</th>\n",
       "      <th>3</th>\n",
       "      <th>4</th>\n",
       "    </tr>\n",
       "    <tr>\n",
       "      <th>PerformanceRating</th>\n",
       "      <th></th>\n",
       "      <th></th>\n",
       "      <th></th>\n",
       "    </tr>\n",
       "  </thead>\n",
       "  <tbody>\n",
       "    <tr>\n",
       "      <th>2</th>\n",
       "      <td>7</td>\n",
       "      <td>11</td>\n",
       "      <td>0</td>\n",
       "    </tr>\n",
       "    <tr>\n",
       "      <th>3</th>\n",
       "      <td>5</td>\n",
       "      <td>86</td>\n",
       "      <td>0</td>\n",
       "    </tr>\n",
       "    <tr>\n",
       "      <th>4</th>\n",
       "      <td>4</td>\n",
       "      <td>6</td>\n",
       "      <td>1</td>\n",
       "    </tr>\n",
       "  </tbody>\n",
       "</table>\n",
       "</div>"
      ],
      "text/plain": [
       "col_0              2   3  4\n",
       "PerformanceRating          \n",
       "2                  7  11  0\n",
       "3                  5  86  0\n",
       "4                  4   6  1"
      ]
     },
     "execution_count": 78,
     "metadata": {},
     "output_type": "execute_result"
    }
   ],
   "source": [
    "pd.crosstab(y_test, y_predict)"
   ]
  },
  {
   "cell_type": "markdown",
   "metadata": {},
   "source": [
    "### Classification Report"
   ]
  },
  {
   "cell_type": "code",
   "execution_count": 79,
   "metadata": {},
   "outputs": [
    {
     "name": "stdout",
     "output_type": "stream",
     "text": [
      "              precision    recall  f1-score   support\n",
      "\n",
      "           2       0.44      0.39      0.41        18\n",
      "           3       0.83      0.95      0.89        91\n",
      "           4       1.00      0.09      0.17        11\n",
      "\n",
      "    accuracy                           0.78       120\n",
      "   macro avg       0.76      0.47      0.49       120\n",
      "weighted avg       0.79      0.78      0.75       120\n",
      "\n"
     ]
    }
   ],
   "source": [
    "from sklearn.metrics import classification_report\n",
    "print(classification_report(y_test,y_predict))"
   ]
  },
  {
   "cell_type": "markdown",
   "metadata": {},
   "source": [
    "## RandomForest Model"
   ]
  },
  {
   "cell_type": "code",
   "execution_count": 80,
   "metadata": {},
   "outputs": [],
   "source": [
    "from sklearn.ensemble import RandomForestClassifier\n",
    "model=RandomForestClassifier(max_depth=8,random_state=20,n_estimators=300,criterion='gini')"
   ]
  },
  {
   "cell_type": "code",
   "execution_count": 81,
   "metadata": {},
   "outputs": [],
   "source": [
    "model.fit(X_train,y_train)\n",
    "y_predict=model.predict(X_test)"
   ]
  },
  {
   "cell_type": "markdown",
   "metadata": {},
   "source": [
    "### Accuracy Score"
   ]
  },
  {
   "cell_type": "code",
   "execution_count": 82,
   "metadata": {},
   "outputs": [
    {
     "data": {
      "text/plain": [
       "0.95"
      ]
     },
     "execution_count": 82,
     "metadata": {},
     "output_type": "execute_result"
    }
   ],
   "source": [
    "from sklearn.metrics import accuracy_score\n",
    "accuracy_score(y_test,y_predict)\n"
   ]
  },
  {
   "cell_type": "markdown",
   "metadata": {},
   "source": [
    "### Cross tab"
   ]
  },
  {
   "cell_type": "code",
   "execution_count": 83,
   "metadata": {},
   "outputs": [
    {
     "data": {
      "text/html": [
       "<div>\n",
       "<style scoped>\n",
       "    .dataframe tbody tr th:only-of-type {\n",
       "        vertical-align: middle;\n",
       "    }\n",
       "\n",
       "    .dataframe tbody tr th {\n",
       "        vertical-align: top;\n",
       "    }\n",
       "\n",
       "    .dataframe thead th {\n",
       "        text-align: right;\n",
       "    }\n",
       "</style>\n",
       "<table border=\"1\" class=\"dataframe\">\n",
       "  <thead>\n",
       "    <tr style=\"text-align: right;\">\n",
       "      <th>col_0</th>\n",
       "      <th>2</th>\n",
       "      <th>3</th>\n",
       "      <th>4</th>\n",
       "    </tr>\n",
       "    <tr>\n",
       "      <th>PerformanceRating</th>\n",
       "      <th></th>\n",
       "      <th></th>\n",
       "      <th></th>\n",
       "    </tr>\n",
       "  </thead>\n",
       "  <tbody>\n",
       "    <tr>\n",
       "      <th>2</th>\n",
       "      <td>16</td>\n",
       "      <td>2</td>\n",
       "      <td>0</td>\n",
       "    </tr>\n",
       "    <tr>\n",
       "      <th>3</th>\n",
       "      <td>3</td>\n",
       "      <td>88</td>\n",
       "      <td>0</td>\n",
       "    </tr>\n",
       "    <tr>\n",
       "      <th>4</th>\n",
       "      <td>0</td>\n",
       "      <td>1</td>\n",
       "      <td>10</td>\n",
       "    </tr>\n",
       "  </tbody>\n",
       "</table>\n",
       "</div>"
      ],
      "text/plain": [
       "col_0               2   3   4\n",
       "PerformanceRating            \n",
       "2                  16   2   0\n",
       "3                   3  88   0\n",
       "4                   0   1  10"
      ]
     },
     "execution_count": 83,
     "metadata": {},
     "output_type": "execute_result"
    }
   ],
   "source": [
    "pd.crosstab(y_test,y_predict)"
   ]
  },
  {
   "cell_type": "markdown",
   "metadata": {},
   "source": [
    "### Classification Report"
   ]
  },
  {
   "cell_type": "code",
   "execution_count": 84,
   "metadata": {},
   "outputs": [
    {
     "name": "stdout",
     "output_type": "stream",
     "text": [
      "              precision    recall  f1-score   support\n",
      "\n",
      "           2       0.84      0.89      0.86        18\n",
      "           3       0.97      0.97      0.97        91\n",
      "           4       1.00      0.91      0.95        11\n",
      "\n",
      "    accuracy                           0.95       120\n",
      "   macro avg       0.94      0.92      0.93       120\n",
      "weighted avg       0.95      0.95      0.95       120\n",
      "\n"
     ]
    }
   ],
   "source": [
    "from sklearn.metrics import classification_report\n",
    "print(classification_report(y_test,y_predict))"
   ]
  },
  {
   "cell_type": "markdown",
   "metadata": {},
   "source": [
    "## XG Boost"
   ]
  },
  {
   "cell_type": "code",
   "execution_count": 85,
   "metadata": {},
   "outputs": [],
   "source": [
    "from xgboost import XGBClassifier\n",
    "model= XGBClassifier(max_depth=3,n_estimators=30,random_state=30,learning_rate=0.001)"
   ]
  },
  {
   "cell_type": "code",
   "execution_count": 86,
   "metadata": {},
   "outputs": [],
   "source": [
    "model.fit(X_train,y_train)\n",
    "y_predict=model.predict(X_test)"
   ]
  },
  {
   "cell_type": "markdown",
   "metadata": {},
   "source": [
    "### Accuracy Score"
   ]
  },
  {
   "cell_type": "code",
   "execution_count": 87,
   "metadata": {},
   "outputs": [
    {
     "data": {
      "text/plain": [
       "0.95"
      ]
     },
     "execution_count": 87,
     "metadata": {},
     "output_type": "execute_result"
    }
   ],
   "source": [
    "from sklearn.metrics import accuracy_score\n",
    "accuracy_score(y_test,y_predict)"
   ]
  },
  {
   "cell_type": "markdown",
   "metadata": {},
   "source": [
    "### Classification Report"
   ]
  },
  {
   "cell_type": "code",
   "execution_count": 88,
   "metadata": {},
   "outputs": [
    {
     "name": "stdout",
     "output_type": "stream",
     "text": [
      "              precision    recall  f1-score   support\n",
      "\n",
      "           2       0.84      0.89      0.86        18\n",
      "           3       0.97      0.97      0.97        91\n",
      "           4       1.00      0.91      0.95        11\n",
      "\n",
      "    accuracy                           0.95       120\n",
      "   macro avg       0.94      0.92      0.93       120\n",
      "weighted avg       0.95      0.95      0.95       120\n",
      "\n"
     ]
    }
   ],
   "source": [
    "from sklearn.metrics import classification_report\n",
    "print(classification_report(y_test,y_predict))"
   ]
  },
  {
   "cell_type": "markdown",
   "metadata": {},
   "source": [
    "## SVM Model"
   ]
  },
  {
   "cell_type": "code",
   "execution_count": 89,
   "metadata": {},
   "outputs": [],
   "source": [
    "from sklearn.svm import SVC\n",
    "model = SVC( kernel='rbf',\n",
    "             C = 20,\n",
    "             gamma = 0.0001,\n",
    "             random_state=20\n",
    "           )\n",
    "model.fit(X_train, y_train)\n",
    "y_predict = model.predict(X_test)"
   ]
  },
  {
   "cell_type": "markdown",
   "metadata": {},
   "source": [
    "### Accuracy Score"
   ]
  },
  {
   "cell_type": "code",
   "execution_count": 90,
   "metadata": {},
   "outputs": [
    {
     "data": {
      "text/plain": [
       "0.75"
      ]
     },
     "execution_count": 90,
     "metadata": {},
     "output_type": "execute_result"
    }
   ],
   "source": [
    "accuracy_score(y_test, y_predict)"
   ]
  },
  {
   "cell_type": "markdown",
   "metadata": {},
   "source": [
    "### Crosstab"
   ]
  },
  {
   "cell_type": "code",
   "execution_count": 91,
   "metadata": {},
   "outputs": [
    {
     "data": {
      "text/html": [
       "<div>\n",
       "<style scoped>\n",
       "    .dataframe tbody tr th:only-of-type {\n",
       "        vertical-align: middle;\n",
       "    }\n",
       "\n",
       "    .dataframe tbody tr th {\n",
       "        vertical-align: top;\n",
       "    }\n",
       "\n",
       "    .dataframe thead th {\n",
       "        text-align: right;\n",
       "    }\n",
       "</style>\n",
       "<table border=\"1\" class=\"dataframe\">\n",
       "  <thead>\n",
       "    <tr style=\"text-align: right;\">\n",
       "      <th>col_0</th>\n",
       "      <th>2</th>\n",
       "      <th>3</th>\n",
       "      <th>4</th>\n",
       "    </tr>\n",
       "    <tr>\n",
       "      <th>PerformanceRating</th>\n",
       "      <th></th>\n",
       "      <th></th>\n",
       "      <th></th>\n",
       "    </tr>\n",
       "  </thead>\n",
       "  <tbody>\n",
       "    <tr>\n",
       "      <th>2</th>\n",
       "      <td>0</td>\n",
       "      <td>18</td>\n",
       "      <td>0</td>\n",
       "    </tr>\n",
       "    <tr>\n",
       "      <th>3</th>\n",
       "      <td>0</td>\n",
       "      <td>88</td>\n",
       "      <td>3</td>\n",
       "    </tr>\n",
       "    <tr>\n",
       "      <th>4</th>\n",
       "      <td>3</td>\n",
       "      <td>6</td>\n",
       "      <td>2</td>\n",
       "    </tr>\n",
       "  </tbody>\n",
       "</table>\n",
       "</div>"
      ],
      "text/plain": [
       "col_0              2   3  4\n",
       "PerformanceRating          \n",
       "2                  0  18  0\n",
       "3                  0  88  3\n",
       "4                  3   6  2"
      ]
     },
     "execution_count": 91,
     "metadata": {},
     "output_type": "execute_result"
    }
   ],
   "source": [
    "pd.crosstab(y_test,y_predict)"
   ]
  },
  {
   "cell_type": "markdown",
   "metadata": {},
   "source": [
    "### Classification Report"
   ]
  },
  {
   "cell_type": "code",
   "execution_count": 92,
   "metadata": {},
   "outputs": [
    {
     "name": "stdout",
     "output_type": "stream",
     "text": [
      "              precision    recall  f1-score   support\n",
      "\n",
      "           2       0.00      0.00      0.00        18\n",
      "           3       0.79      0.97      0.87        91\n",
      "           4       0.40      0.18      0.25        11\n",
      "\n",
      "    accuracy                           0.75       120\n",
      "   macro avg       0.40      0.38      0.37       120\n",
      "weighted avg       0.63      0.75      0.68       120\n",
      "\n"
     ]
    }
   ],
   "source": [
    "from sklearn.metrics import classification_report\n",
    "print(classification_report(y_test,y_predict))"
   ]
  },
  {
   "cell_type": "markdown",
   "metadata": {},
   "source": [
    "## Conclusion"
   ]
  },
  {
   "cell_type": "markdown",
   "metadata": {},
   "source": [
    "## Parameters that influence more to predict performance rate were as follows.\n",
    "        1. EmpEnvironmentSatisfaction\n",
    "        2. EmpHikePercent\n",
    "        3. EmpSincelastPromotion\n",
    "        \n",
    "        "
   ]
  },
  {
   "cell_type": "code",
   "execution_count": null,
   "metadata": {},
   "outputs": [],
   "source": []
  }
 ],
 "metadata": {
  "kernelspec": {
   "display_name": "Python 3",
   "language": "python",
   "name": "python3"
  },
  "language_info": {
   "codemirror_mode": {
    "name": "ipython",
    "version": 3
   },
   "file_extension": ".py",
   "mimetype": "text/x-python",
   "name": "python",
   "nbconvert_exporter": "python",
   "pygments_lexer": "ipython3",
   "version": "3.8.3"
  }
 },
 "nbformat": 4,
 "nbformat_minor": 2
}
